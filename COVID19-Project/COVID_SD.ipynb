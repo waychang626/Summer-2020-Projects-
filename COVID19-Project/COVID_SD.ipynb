{
 "cells": [
  {
   "cell_type": "code",
   "execution_count": 1,
   "metadata": {},
   "outputs": [],
   "source": [
    "import pandas as pd \n",
    "import numpy as np \n",
    "from datetime import datetime\n",
    "import matplotlib.pyplot as plt\n",
    "from scipy import stats\n",
    "from itertools import chain "
   ]
  },
  {
   "cell_type": "code",
   "execution_count": 2,
   "metadata": {},
   "outputs": [],
   "source": [
    "df_covid = pd.read_csv('Datasets/COVID-19_Statistics_by_Jurisdiction.csv')\n",
    "## https://sdgis-sandag.opendata.arcgis.com/datasets/covid-19-statistics-by-jurisdiction?geometry=-120.348%2C32.566%2C-115.965%2C33.372\n",
    "df_population = pd.read_csv('Datasets/sub-est2019_6.csv', encoding = 'latin-1')"
   ]
  },
  {
   "cell_type": "code",
   "execution_count": null,
   "metadata": {},
   "outputs": [],
   "source": []
  },
  {
   "cell_type": "markdown",
   "metadata": {},
   "source": [
    "## Data Cleaning"
   ]
  },
  {
   "cell_type": "code",
   "execution_count": 3,
   "metadata": {},
   "outputs": [],
   "source": [
    "## changing covid's lastupdate to just the date \n",
    "lastUpdate = df_covid['lastupdate']\n",
    "update = []\n",
    "for t in lastUpdate:\n",
    "    ##getting rid of the time \n",
    "    date = t.split(' ')[0]\n",
    "    #print(date)\n",
    "    update.append(datetime.strptime(date, '%Y/%m/%d'))\n",
    "\n",
    "df_covid['date'] = update"
   ]
  },
  {
   "cell_type": "code",
   "execution_count": 4,
   "metadata": {},
   "outputs": [],
   "source": [
    "#df_covid['date'].iloc[0].weekday()\n",
    "## adding day of the week to df covid \n",
    "weekday = []\n",
    "for d in df_covid['date']:\n",
    "    weekday.append(str(d.isoweekday()))\n",
    "\n"
   ]
  },
  {
   "cell_type": "code",
   "execution_count": 5,
   "metadata": {},
   "outputs": [],
   "source": [
    "df_covid['dayOfWeek'] = weekday\n"
   ]
  },
  {
   "cell_type": "code",
   "execution_count": 6,
   "metadata": {},
   "outputs": [],
   "source": [
    "##convert time into str for date \n",
    "new_date =[]\n",
    "for e in df_covid.loc[:, 'date']:\n",
    "    new_date.append(e.strftime('%m-%d'))\n",
    "\n",
    "df_covid['date'] = new_date"
   ]
  },
  {
   "cell_type": "code",
   "execution_count": 7,
   "metadata": {},
   "outputs": [],
   "source": [
    "##leaving only the useful columns  for covid\n",
    "cols = ['name', 'confirmedcases', 'date', 'dayOfWeek']\n",
    "df_covid = df_covid[cols]"
   ]
  },
  {
   "cell_type": "code",
   "execution_count": 8,
   "metadata": {},
   "outputs": [],
   "source": [
    "##cleaning Name to title \n",
    "df_covid['name'] = df_covid['name'].str.title()\n",
    "df_covid.rename({'name' : 'City'}, inplace = True, axis = 1)"
   ]
  },
  {
   "cell_type": "code",
   "execution_count": 9,
   "metadata": {},
   "outputs": [
    {
     "data": {
      "text/plain": [
       "City              0\n",
       "confirmedcases    2\n",
       "date              0\n",
       "dayOfWeek         0\n",
       "dtype: int64"
      ]
     },
     "execution_count": 9,
     "metadata": {},
     "output_type": "execute_result"
    }
   ],
   "source": [
    "##check for null values \n",
    "df_covid.isnull().sum()\n",
    "\n",
    "## 1 null in confirmedcases"
   ]
  },
  {
   "cell_type": "code",
   "execution_count": 10,
   "metadata": {
    "scrolled": true
   },
   "outputs": [
    {
     "data": {
      "text/html": [
       "<div>\n",
       "<style scoped>\n",
       "    .dataframe tbody tr th:only-of-type {\n",
       "        vertical-align: middle;\n",
       "    }\n",
       "\n",
       "    .dataframe tbody tr th {\n",
       "        vertical-align: top;\n",
       "    }\n",
       "\n",
       "    .dataframe thead th {\n",
       "        text-align: right;\n",
       "    }\n",
       "</style>\n",
       "<table border=\"1\" class=\"dataframe\">\n",
       "  <thead>\n",
       "    <tr style=\"text-align: right;\">\n",
       "      <th></th>\n",
       "      <th>City</th>\n",
       "      <th>confirmedcases</th>\n",
       "      <th>date</th>\n",
       "      <th>dayOfWeek</th>\n",
       "    </tr>\n",
       "  </thead>\n",
       "  <tbody>\n",
       "    <tr>\n",
       "      <th>3604</th>\n",
       "      <td>Unknown</td>\n",
       "      <td>NaN</td>\n",
       "      <td>06-22</td>\n",
       "      <td>1</td>\n",
       "    </tr>\n",
       "    <tr>\n",
       "      <th>3730</th>\n",
       "      <td>Unknown</td>\n",
       "      <td>NaN</td>\n",
       "      <td>06-25</td>\n",
       "      <td>4</td>\n",
       "    </tr>\n",
       "  </tbody>\n",
       "</table>\n",
       "</div>"
      ],
      "text/plain": [
       "         City  confirmedcases   date dayOfWeek\n",
       "3604  Unknown             NaN  06-22         1\n",
       "3730  Unknown             NaN  06-25         4"
      ]
     },
     "execution_count": 10,
     "metadata": {},
     "output_type": "execute_result"
    }
   ],
   "source": [
    "## inspection of null value \n",
    "df_covid[df_covid['confirmedcases'].isnull()]\n"
   ]
  },
  {
   "cell_type": "code",
   "execution_count": 11,
   "metadata": {},
   "outputs": [],
   "source": [
    "##City is Unknown, most likely an input error\n",
    "df_covid = df_covid.dropna()"
   ]
  },
  {
   "cell_type": "code",
   "execution_count": 12,
   "metadata": {},
   "outputs": [
    {
     "data": {
      "text/plain": [
       "118"
      ]
     },
     "execution_count": 12,
     "metadata": {},
     "output_type": "execute_result"
    }
   ],
   "source": [
    "## inspect City == Unknown \n",
    "len(df_covid[df_covid['City'] == 'Unknown'])"
   ]
  },
  {
   "cell_type": "code",
   "execution_count": 13,
   "metadata": {},
   "outputs": [],
   "source": [
    "## 95 (already got rid of the null row) is the amount of days "
   ]
  },
  {
   "cell_type": "code",
   "execution_count": null,
   "metadata": {},
   "outputs": [],
   "source": []
  },
  {
   "cell_type": "markdown",
   "metadata": {},
   "source": [
    "## Merging "
   ]
  },
  {
   "cell_type": "code",
   "execution_count": 14,
   "metadata": {},
   "outputs": [],
   "source": [
    "#df_covid_merged = pd.merge(how = 'right', left = df_covid, right = df_CA, on ='City', )"
   ]
  },
  {
   "cell_type": "markdown",
   "metadata": {},
   "source": [
    "## Analysis"
   ]
  },
  {
   "cell_type": "code",
   "execution_count": 15,
   "metadata": {},
   "outputs": [],
   "source": [
    "##helper function to determine if desired city is in dataset \n",
    "def find_city(city): \n",
    "    city = city.title()\n",
    "    print(city in df_covid['City'].unique())\n",
    "    "
   ]
  },
  {
   "cell_type": "code",
   "execution_count": 16,
   "metadata": {},
   "outputs": [
    {
     "name": "stdout",
     "output_type": "stream",
     "text": [
      "True\n"
     ]
    }
   ],
   "source": [
    "find_city('SAn diego')"
   ]
  },
  {
   "cell_type": "code",
   "execution_count": 17,
   "metadata": {},
   "outputs": [
    {
     "data": {
      "text/html": [
       "<div>\n",
       "<style scoped>\n",
       "    .dataframe tbody tr th:only-of-type {\n",
       "        vertical-align: middle;\n",
       "    }\n",
       "\n",
       "    .dataframe tbody tr th {\n",
       "        vertical-align: top;\n",
       "    }\n",
       "\n",
       "    .dataframe thead th {\n",
       "        text-align: right;\n",
       "    }\n",
       "</style>\n",
       "<table border=\"1\" class=\"dataframe\">\n",
       "  <thead>\n",
       "    <tr style=\"text-align: right;\">\n",
       "      <th></th>\n",
       "      <th>City</th>\n",
       "      <th>confirmedcases</th>\n",
       "      <th>date</th>\n",
       "      <th>dayOfWeek</th>\n",
       "    </tr>\n",
       "  </thead>\n",
       "  <tbody>\n",
       "    <tr>\n",
       "      <th>17</th>\n",
       "      <td>San Diego</td>\n",
       "      <td>207.0</td>\n",
       "      <td>03-25</td>\n",
       "      <td>3</td>\n",
       "    </tr>\n",
       "    <tr>\n",
       "      <th>41</th>\n",
       "      <td>San Diego</td>\n",
       "      <td>169.0</td>\n",
       "      <td>03-24</td>\n",
       "      <td>2</td>\n",
       "    </tr>\n",
       "    <tr>\n",
       "      <th>65</th>\n",
       "      <td>San Diego</td>\n",
       "      <td>251.0</td>\n",
       "      <td>03-26</td>\n",
       "      <td>4</td>\n",
       "    </tr>\n",
       "    <tr>\n",
       "      <th>89</th>\n",
       "      <td>San Diego</td>\n",
       "      <td>141.0</td>\n",
       "      <td>03-23</td>\n",
       "      <td>1</td>\n",
       "    </tr>\n",
       "    <tr>\n",
       "      <th>115</th>\n",
       "      <td>San Diego</td>\n",
       "      <td>134.0</td>\n",
       "      <td>03-22</td>\n",
       "      <td>7</td>\n",
       "    </tr>\n",
       "  </tbody>\n",
       "</table>\n",
       "</div>"
      ],
      "text/plain": [
       "          City  confirmedcases   date dayOfWeek\n",
       "17   San Diego           207.0  03-25         3\n",
       "41   San Diego           169.0  03-24         2\n",
       "65   San Diego           251.0  03-26         4\n",
       "89   San Diego           141.0  03-23         1\n",
       "115  San Diego           134.0  03-22         7"
      ]
     },
     "execution_count": 17,
     "metadata": {},
     "output_type": "execute_result"
    }
   ],
   "source": [
    "##group by date and graph in san diego\n",
    "df_sd = df_covid.loc[df_covid['City'] == 'San Diego', :]\n",
    "group_date = df_sd.groupby('date')\n",
    "sd_daily_count = group_date[['confirmedcases', 'date']].sum()\n",
    "df_sd.head()"
   ]
  },
  {
   "cell_type": "code",
   "execution_count": 18,
   "metadata": {},
   "outputs": [],
   "source": [
    "## get daily count in SD\n",
    "df_sd = df_sd.sort_values('date')\n",
    "diff = df_sd['confirmedcases'] - df_sd['confirmedcases'].shift(1)\n",
    "df_sd['DailyCases'] = diff\n"
   ]
  },
  {
   "cell_type": "code",
   "execution_count": 19,
   "metadata": {},
   "outputs": [
    {
     "data": {
      "text/html": [
       "<div>\n",
       "<style scoped>\n",
       "    .dataframe tbody tr th:only-of-type {\n",
       "        vertical-align: middle;\n",
       "    }\n",
       "\n",
       "    .dataframe tbody tr th {\n",
       "        vertical-align: top;\n",
       "    }\n",
       "\n",
       "    .dataframe thead th {\n",
       "        text-align: right;\n",
       "    }\n",
       "</style>\n",
       "<table border=\"1\" class=\"dataframe\">\n",
       "  <thead>\n",
       "    <tr style=\"text-align: right;\">\n",
       "      <th></th>\n",
       "      <th>City</th>\n",
       "      <th>confirmedcases</th>\n",
       "      <th>dayOfWeek</th>\n",
       "      <th>DailyCases</th>\n",
       "    </tr>\n",
       "    <tr>\n",
       "      <th>date</th>\n",
       "      <th></th>\n",
       "      <th></th>\n",
       "      <th></th>\n",
       "      <th></th>\n",
       "    </tr>\n",
       "  </thead>\n",
       "  <tbody>\n",
       "    <tr>\n",
       "      <th>03-20</th>\n",
       "      <td>San Diego</td>\n",
       "      <td>87.0</td>\n",
       "      <td>5</td>\n",
       "      <td>NaN</td>\n",
       "    </tr>\n",
       "    <tr>\n",
       "      <th>03-21</th>\n",
       "      <td>San Diego</td>\n",
       "      <td>118.0</td>\n",
       "      <td>6</td>\n",
       "      <td>31.0</td>\n",
       "    </tr>\n",
       "    <tr>\n",
       "      <th>03-22</th>\n",
       "      <td>San Diego</td>\n",
       "      <td>134.0</td>\n",
       "      <td>7</td>\n",
       "      <td>16.0</td>\n",
       "    </tr>\n",
       "    <tr>\n",
       "      <th>03-23</th>\n",
       "      <td>San Diego</td>\n",
       "      <td>141.0</td>\n",
       "      <td>1</td>\n",
       "      <td>7.0</td>\n",
       "    </tr>\n",
       "    <tr>\n",
       "      <th>03-24</th>\n",
       "      <td>San Diego</td>\n",
       "      <td>169.0</td>\n",
       "      <td>2</td>\n",
       "      <td>28.0</td>\n",
       "    </tr>\n",
       "    <tr>\n",
       "      <th>...</th>\n",
       "      <td>...</td>\n",
       "      <td>...</td>\n",
       "      <td>...</td>\n",
       "      <td>...</td>\n",
       "    </tr>\n",
       "    <tr>\n",
       "      <th>07-13</th>\n",
       "      <td>San Diego</td>\n",
       "      <td>9166.0</td>\n",
       "      <td>1</td>\n",
       "      <td>215.0</td>\n",
       "    </tr>\n",
       "    <tr>\n",
       "      <th>07-14</th>\n",
       "      <td>San Diego</td>\n",
       "      <td>9401.0</td>\n",
       "      <td>2</td>\n",
       "      <td>235.0</td>\n",
       "    </tr>\n",
       "    <tr>\n",
       "      <th>07-15</th>\n",
       "      <td>San Diego</td>\n",
       "      <td>9586.0</td>\n",
       "      <td>3</td>\n",
       "      <td>185.0</td>\n",
       "    </tr>\n",
       "    <tr>\n",
       "      <th>07-16</th>\n",
       "      <td>San Diego</td>\n",
       "      <td>9893.0</td>\n",
       "      <td>4</td>\n",
       "      <td>307.0</td>\n",
       "    </tr>\n",
       "    <tr>\n",
       "      <th>07-17</th>\n",
       "      <td>San Diego</td>\n",
       "      <td>10155.0</td>\n",
       "      <td>5</td>\n",
       "      <td>262.0</td>\n",
       "    </tr>\n",
       "  </tbody>\n",
       "</table>\n",
       "<p>120 rows × 4 columns</p>\n",
       "</div>"
      ],
      "text/plain": [
       "            City  confirmedcases dayOfWeek  DailyCases\n",
       "date                                                  \n",
       "03-20  San Diego            87.0         5         NaN\n",
       "03-21  San Diego           118.0         6        31.0\n",
       "03-22  San Diego           134.0         7        16.0\n",
       "03-23  San Diego           141.0         1         7.0\n",
       "03-24  San Diego           169.0         2        28.0\n",
       "...          ...             ...       ...         ...\n",
       "07-13  San Diego          9166.0         1       215.0\n",
       "07-14  San Diego          9401.0         2       235.0\n",
       "07-15  San Diego          9586.0         3       185.0\n",
       "07-16  San Diego          9893.0         4       307.0\n",
       "07-17  San Diego         10155.0         5       262.0\n",
       "\n",
       "[120 rows x 4 columns]"
      ]
     },
     "execution_count": 19,
     "metadata": {},
     "output_type": "execute_result"
    }
   ],
   "source": [
    "## make new columns that's the difference between confirmed cases to get \n",
    "## daily count \n",
    "\n",
    "#df_sd.head()\n",
    "df_sd = df_sd.sort_values('date')\n",
    "df_sd.set_index('date')\n"
   ]
  },
  {
   "cell_type": "code",
   "execution_count": 20,
   "metadata": {},
   "outputs": [
    {
     "data": {
      "text/html": [
       "<div>\n",
       "<style scoped>\n",
       "    .dataframe tbody tr th:only-of-type {\n",
       "        vertical-align: middle;\n",
       "    }\n",
       "\n",
       "    .dataframe tbody tr th {\n",
       "        vertical-align: top;\n",
       "    }\n",
       "\n",
       "    .dataframe thead th {\n",
       "        text-align: right;\n",
       "    }\n",
       "</style>\n",
       "<table border=\"1\" class=\"dataframe\">\n",
       "  <thead>\n",
       "    <tr style=\"text-align: right;\">\n",
       "      <th></th>\n",
       "      <th>DailyCases</th>\n",
       "    </tr>\n",
       "    <tr>\n",
       "      <th>date</th>\n",
       "      <th></th>\n",
       "    </tr>\n",
       "  </thead>\n",
       "  <tbody>\n",
       "    <tr>\n",
       "      <th>07-13</th>\n",
       "      <td>215.0</td>\n",
       "    </tr>\n",
       "    <tr>\n",
       "      <th>07-14</th>\n",
       "      <td>235.0</td>\n",
       "    </tr>\n",
       "    <tr>\n",
       "      <th>07-15</th>\n",
       "      <td>185.0</td>\n",
       "    </tr>\n",
       "    <tr>\n",
       "      <th>07-16</th>\n",
       "      <td>307.0</td>\n",
       "    </tr>\n",
       "    <tr>\n",
       "      <th>07-17</th>\n",
       "      <td>262.0</td>\n",
       "    </tr>\n",
       "  </tbody>\n",
       "</table>\n",
       "</div>"
      ],
      "text/plain": [
       "       DailyCases\n",
       "date             \n",
       "07-13       215.0\n",
       "07-14       235.0\n",
       "07-15       185.0\n",
       "07-16       307.0\n",
       "07-17       262.0"
      ]
     },
     "execution_count": 20,
     "metadata": {},
     "output_type": "execute_result"
    }
   ],
   "source": [
    "sd_pv = df_sd.pivot_table(index = 'date', values = 'DailyCases')\n",
    "sd_pv.tail()\n"
   ]
  },
  {
   "cell_type": "code",
   "execution_count": 21,
   "metadata": {},
   "outputs": [
    {
     "data": {
      "text/plain": [
       "<matplotlib.axes._subplots.AxesSubplot at 0x7fe07e322ed0>"
      ]
     },
     "execution_count": 21,
     "metadata": {},
     "output_type": "execute_result"
    },
    {
     "data": {
      "image/png": "[encoded data removed]",
      "text/plain": [
       "<Figure size 432x288 with 1 Axes>"
      ]
     },
     "metadata": {
      "needs_background": "light"
     },
     "output_type": "display_data"
    }
   ],
   "source": [
    "## graph last 14 days in sd \n",
    "sd_pv[-100:].plot(kind = 'line', title='COVID in SD from {} to {}'.format(sd_pv.index[-14], sd_pv.index[-1]))\n",
    "\n",
    "\n"
   ]
  },
  {
   "cell_type": "code",
   "execution_count": 22,
   "metadata": {},
   "outputs": [],
   "source": [
    "## graphing last week compared to two weeks ago"
   ]
  },
  {
   "cell_type": "code",
   "execution_count": 23,
   "metadata": {},
   "outputs": [],
   "source": [
    "## making dataframe for "
   ]
  },
  {
   "cell_type": "code",
   "execution_count": 24,
   "metadata": {},
   "outputs": [
    {
     "data": {
      "text/plain": [
       "<matplotlib.legend.Legend at 0x7fe07e443250>"
      ]
     },
     "execution_count": 24,
     "metadata": {},
     "output_type": "execute_result"
    },
    {
     "data": {
      "image/png": "[encoded data removed]",
      "text/plain": [
       "<Figure size 432x288 with 1 Axes>"
      ]
     },
     "metadata": {
      "needs_background": "light"
     },
     "output_type": "display_data"
    }
   ],
   "source": [
    "## could fix this so the two graphs overlap, and use the day \n",
    "## of the week as x axis\n",
    "df_sd_twoweeks_before = df_sd[['dayOfWeek', 'DailyCases']].iloc[-14:-7]\n",
    "df_sd_oneweek_before = df_sd[['dayOfWeek', 'DailyCases']].iloc[-7:]\n",
    "\n",
    "plt.plot(df_sd_twoweeks_before['dayOfWeek'], df_sd_twoweeks_before['DailyCases'], label = '{} - {}'.format(df_sd['date'].iloc[-14], df_sd['date'].iloc[-8]), c = 'y')\n",
    "plt.plot(df_sd_oneweek_before['dayOfWeek'], df_sd_oneweek_before['DailyCases'], label = '{} - {}'.format(df_sd['date'].iloc[-7], df_sd['date'].iloc[-1]), c = 'r')\n",
    "plt.title('San Diego Covid in the Past 2 Weeks')\n",
    "plt.ylabel('Daily Confirmed Cases')\n",
    "plt.xlabel('Day of the week')\n",
    "plt.legend()\n",
    "\n",
    "\n",
    "\n"
   ]
  },
  {
   "cell_type": "code",
   "execution_count": 25,
   "metadata": {},
   "outputs": [],
   "source": [
    "## find out mean of week and see if there is a mismatch amongst days \n",
    "##hypothesis: tuesdays move the slowest? \n"
   ]
  },
  {
   "cell_type": "code",
   "execution_count": 26,
   "metadata": {},
   "outputs": [],
   "source": [
    "weekday_sd_pv = df_sd.pivot_table(index = 'dayOfWeek', values = 'DailyCases')\n",
    "\n"
   ]
  },
  {
   "cell_type": "code",
   "execution_count": 27,
   "metadata": {},
   "outputs": [
    {
     "data": {
      "text/plain": [
       "Text(0.5, 0, 'Day of Week')"
      ]
     },
     "execution_count": 27,
     "metadata": {},
     "output_type": "execute_result"
    },
    {
     "data": {
      "image/png": "[encoded data removed]",
      "text/plain": [
       "<Figure size 432x288 with 1 Axes>"
      ]
     },
     "metadata": {
      "needs_background": "light"
     },
     "output_type": "display_data"
    }
   ],
   "source": [
    "ax = weekday_sd_pv.plot(kind='bar', rot = 0, title = 'New Daily Cases on average by the day of the week in SD')\n",
    "ax.set_xlabel('Day of Week')\n"
   ]
  },
  {
   "cell_type": "markdown",
   "metadata": {},
   "source": [
    "## Comparing SD to nearby Cities "
   ]
  },
  {
   "cell_type": "code",
   "execution_count": 28,
   "metadata": {},
   "outputs": [],
   "source": [
    "## maybe more accurate to compare by population/million"
   ]
  },
  {
   "cell_type": "code",
   "execution_count": 29,
   "metadata": {},
   "outputs": [],
   "source": [
    "#df_covid['City'].unique()"
   ]
  },
  {
   "cell_type": "markdown",
   "metadata": {},
   "source": []
  },
  {
   "cell_type": "code",
   "execution_count": 30,
   "metadata": {},
   "outputs": [],
   "source": [
    "df_population = df_population[['NAME', 'POPESTIMATE2019']]\n",
    "df_population.columns = ['City', 'Population']\n"
   ]
  },
  {
   "cell_type": "code",
   "execution_count": 31,
   "metadata": {},
   "outputs": [],
   "source": [
    "##clean City column \n",
    "df_population['City'] = df_population['City'].str.replace('city', '')\n",
    "df_population['City'] = df_population['City'].str.replace('town', '')\n",
    "df_population['City'] = df_population['City'].str.strip()\n",
    "df_population.drop_duplicates(inplace = True)\n",
    "\n",
    "\n",
    "#df_population.head()\n"
   ]
  },
  {
   "cell_type": "code",
   "execution_count": 32,
   "metadata": {
    "scrolled": true
   },
   "outputs": [],
   "source": [
    "##getting df population with only cities in df_covid\n",
    "cities = df_covid['City'].unique()\n",
    "\n",
    "df_population = df_population[df_population['City'].isin(list(cities))]\n",
    "df_population = df_population[['City', 'Population']]\n",
    "#df_population.head()"
   ]
  },
  {
   "cell_type": "code",
   "execution_count": 33,
   "metadata": {},
   "outputs": [],
   "source": [
    "## merging these datasets \n",
    "df_covid_pop = df_population.merge(df_covid, left_on='City', right_on='City', how = 'inner')\n",
    "df_covid_pop = df_covid_pop.sort_values(by=['City', 'date'])\n",
    "cities = list(df_covid_pop['City'].unique())\n",
    "#cities\n",
    "\n",
    "\n"
   ]
  },
  {
   "cell_type": "code",
   "execution_count": 34,
   "metadata": {},
   "outputs": [
    {
     "data": {
      "text/html": [
       "<div>\n",
       "<style scoped>\n",
       "    .dataframe tbody tr th:only-of-type {\n",
       "        vertical-align: middle;\n",
       "    }\n",
       "\n",
       "    .dataframe tbody tr th {\n",
       "        vertical-align: top;\n",
       "    }\n",
       "\n",
       "    .dataframe thead th {\n",
       "        text-align: right;\n",
       "    }\n",
       "</style>\n",
       "<table border=\"1\" class=\"dataframe\">\n",
       "  <thead>\n",
       "    <tr style=\"text-align: right;\">\n",
       "      <th></th>\n",
       "      <th>City</th>\n",
       "      <th>Population</th>\n",
       "      <th>confirmedcases</th>\n",
       "      <th>date</th>\n",
       "      <th>dayOfWeek</th>\n",
       "      <th>DailyCases</th>\n",
       "    </tr>\n",
       "  </thead>\n",
       "  <tbody>\n",
       "    <tr>\n",
       "      <th>2154</th>\n",
       "      <td>Vista</td>\n",
       "      <td>101638</td>\n",
       "      <td>496.0</td>\n",
       "      <td>07-13</td>\n",
       "      <td>1</td>\n",
       "      <td>15.0</td>\n",
       "    </tr>\n",
       "    <tr>\n",
       "      <th>2155</th>\n",
       "      <td>Vista</td>\n",
       "      <td>101638</td>\n",
       "      <td>509.0</td>\n",
       "      <td>07-14</td>\n",
       "      <td>2</td>\n",
       "      <td>13.0</td>\n",
       "    </tr>\n",
       "    <tr>\n",
       "      <th>2156</th>\n",
       "      <td>Vista</td>\n",
       "      <td>101638</td>\n",
       "      <td>521.0</td>\n",
       "      <td>07-15</td>\n",
       "      <td>3</td>\n",
       "      <td>12.0</td>\n",
       "    </tr>\n",
       "    <tr>\n",
       "      <th>2157</th>\n",
       "      <td>Vista</td>\n",
       "      <td>101638</td>\n",
       "      <td>536.0</td>\n",
       "      <td>07-16</td>\n",
       "      <td>4</td>\n",
       "      <td>15.0</td>\n",
       "    </tr>\n",
       "    <tr>\n",
       "      <th>2158</th>\n",
       "      <td>Vista</td>\n",
       "      <td>101638</td>\n",
       "      <td>552.0</td>\n",
       "      <td>07-17</td>\n",
       "      <td>5</td>\n",
       "      <td>16.0</td>\n",
       "    </tr>\n",
       "  </tbody>\n",
       "</table>\n",
       "</div>"
      ],
      "text/plain": [
       "       City  Population  confirmedcases   date dayOfWeek  DailyCases\n",
       "2154  Vista      101638           496.0  07-13         1        15.0\n",
       "2155  Vista      101638           509.0  07-14         2        13.0\n",
       "2156  Vista      101638           521.0  07-15         3        12.0\n",
       "2157  Vista      101638           536.0  07-16         4        15.0\n",
       "2158  Vista      101638           552.0  07-17         5        16.0"
      ]
     },
     "execution_count": 34,
     "metadata": {},
     "output_type": "execute_result"
    }
   ],
   "source": [
    "##forloop to get the dailycases per city\n",
    "daily = []\n",
    "for c in list(cities):\n",
    "    #print(c)\n",
    "    df_temp = df_covid_pop.loc[df_covid_pop['City'] == c, :]\n",
    "    diff = df_temp['confirmedcases'] - df_temp['confirmedcases'].shift(1)\n",
    "    #print(len(diff))\n",
    "    daily.append(list(diff))\n",
    "\n",
    "daily = list(chain.from_iterable(daily))\n",
    "df_covid_pop['DailyCases'] = daily\n",
    "\n",
    "df_covid_pop.tail()  "
   ]
  },
  {
   "cell_type": "code",
   "execution_count": 35,
   "metadata": {
    "scrolled": true
   },
   "outputs": [
    {
     "data": {
      "text/html": [
       "<div>\n",
       "<style scoped>\n",
       "    .dataframe tbody tr th:only-of-type {\n",
       "        vertical-align: middle;\n",
       "    }\n",
       "\n",
       "    .dataframe tbody tr th {\n",
       "        vertical-align: top;\n",
       "    }\n",
       "\n",
       "    .dataframe thead th {\n",
       "        text-align: right;\n",
       "    }\n",
       "</style>\n",
       "<table border=\"1\" class=\"dataframe\">\n",
       "  <thead>\n",
       "    <tr style=\"text-align: right;\">\n",
       "      <th></th>\n",
       "      <th>City</th>\n",
       "      <th>Population</th>\n",
       "      <th>confirmedcases</th>\n",
       "      <th>date</th>\n",
       "      <th>dayOfWeek</th>\n",
       "      <th>DailyCases</th>\n",
       "      <th>DailyCases/Million</th>\n",
       "    </tr>\n",
       "  </thead>\n",
       "  <tbody>\n",
       "    <tr>\n",
       "      <th>6</th>\n",
       "      <td>Carlsbad</td>\n",
       "      <td>115382</td>\n",
       "      <td>11.0</td>\n",
       "      <td>03-20</td>\n",
       "      <td>5</td>\n",
       "      <td>NaN</td>\n",
       "      <td>NaN</td>\n",
       "    </tr>\n",
       "    <tr>\n",
       "      <th>5</th>\n",
       "      <td>Carlsbad</td>\n",
       "      <td>115382</td>\n",
       "      <td>12.0</td>\n",
       "      <td>03-21</td>\n",
       "      <td>6</td>\n",
       "      <td>1.0</td>\n",
       "      <td>8.666863</td>\n",
       "    </tr>\n",
       "    <tr>\n",
       "      <th>4</th>\n",
       "      <td>Carlsbad</td>\n",
       "      <td>115382</td>\n",
       "      <td>14.0</td>\n",
       "      <td>03-22</td>\n",
       "      <td>7</td>\n",
       "      <td>2.0</td>\n",
       "      <td>17.333726</td>\n",
       "    </tr>\n",
       "    <tr>\n",
       "      <th>3</th>\n",
       "      <td>Carlsbad</td>\n",
       "      <td>115382</td>\n",
       "      <td>13.0</td>\n",
       "      <td>03-23</td>\n",
       "      <td>1</td>\n",
       "      <td>-1.0</td>\n",
       "      <td>-8.666863</td>\n",
       "    </tr>\n",
       "    <tr>\n",
       "      <th>1</th>\n",
       "      <td>Carlsbad</td>\n",
       "      <td>115382</td>\n",
       "      <td>16.0</td>\n",
       "      <td>03-24</td>\n",
       "      <td>2</td>\n",
       "      <td>3.0</td>\n",
       "      <td>26.000589</td>\n",
       "    </tr>\n",
       "  </tbody>\n",
       "</table>\n",
       "</div>"
      ],
      "text/plain": [
       "       City  Population  confirmedcases   date dayOfWeek  DailyCases  \\\n",
       "6  Carlsbad      115382            11.0  03-20         5         NaN   \n",
       "5  Carlsbad      115382            12.0  03-21         6         1.0   \n",
       "4  Carlsbad      115382            14.0  03-22         7         2.0   \n",
       "3  Carlsbad      115382            13.0  03-23         1        -1.0   \n",
       "1  Carlsbad      115382            16.0  03-24         2         3.0   \n",
       "\n",
       "   DailyCases/Million  \n",
       "6                 NaN  \n",
       "5            8.666863  \n",
       "4           17.333726  \n",
       "3           -8.666863  \n",
       "1           26.000589  "
      ]
     },
     "execution_count": 35,
     "metadata": {},
     "output_type": "execute_result"
    }
   ],
   "source": [
    "## creating confirmed cases per million column \n",
    "df_covid_pop['DailyCases/Million'] = (df_covid_pop['DailyCases']/df_covid_pop['Population']*1000000)\n",
    "df_covid_pop.head()\n",
    "\n"
   ]
  },
  {
   "cell_type": "code",
   "execution_count": 36,
   "metadata": {
    "scrolled": true
   },
   "outputs": [
    {
     "data": {
      "image/png": "[encoded data removed]",
      "text/plain": [
       "<Figure size 432x288 with 1 Axes>"
      ]
     },
     "metadata": {
      "needs_background": "light"
     },
     "output_type": "display_data"
    }
   ],
   "source": [
    "## Visualizing Cities in SD area in the past week by DailyCases/Million\n",
    "## target adjacent cities \n",
    "ad_cities = ['San Diego', 'Del Mar', 'Encinitas', 'La Mesa']\n",
    "\n",
    "for c in list(ad_cities):\n",
    "    df_temp = df_covid_pop.loc[df_covid_pop['City'] == c, :]\n",
    "    pv_temp = df_temp.iloc[-7:].pivot_table(index = 'dayOfWeek', values = 'DailyCases/Million')\n",
    "    plt.plot(pv_temp, label = c)\n",
    "    plt.ylabel(\"Daily Cases Per Million People\" )\n",
    "    plt.xlabel('Daily Cases by Weekday')\n",
    "    plt.title('Daily Cases Per Million People in SD and Adjacent Cities')\n",
    "    plt.legend()"
   ]
  },
  {
   "cell_type": "markdown",
   "metadata": {},
   "source": [
    "Cannot draw reasonable conclusion to the graph above, so I'm proceeding with comparing major cities in Socal"
   ]
  },
  {
   "cell_type": "code",
   "execution_count": null,
   "metadata": {},
   "outputs": [],
   "source": []
  },
  {
   "cell_type": "markdown",
   "metadata": {},
   "source": [
    "## Hypothesis Testing "
   ]
  },
  {
   "cell_type": "markdown",
   "metadata": {},
   "source": [
    "San Diego entered phase 2 of reopening at 6/12. This includes the reopenning of public places like gyms, bars, museums and hotels. There is much speculation that this action would direct cause an increase of cases. While visualization supports the claim, null hypothesis testing would be needed to take place in order to obtain statistical evidence. Here, I compare the two groups, between the lock down and the reopenning(3/19 - 6/12), and between the reopening to today (6/12-6/28)"
   ]
  },
  {
   "cell_type": "markdown",
   "metadata": {},
   "source": [
    "Null Hypothesis: the increase in COVID positive rate after is a result of random fluctuation, H0 = 0\n",
    "\n",
    "Alternatvie Hypothesis: the increase in COVID positive rate this week is not a result of random fluctuation, H1 != 0"
   ]
  },
  {
   "cell_type": "markdown",
   "metadata": {},
   "source": [
    "By random fluctuation, it is interpreted with the assumption that the average postive cases by day in San Diego stays relatively constant after the lockdown. This is supported by graphing the COVID daily cases in San Diego, where cases had been oscillating firmly around 75 cases a day since 3/19, the date where California issued a stay at home order. "
   ]
  },
  {
   "cell_type": "code",
   "execution_count": 37,
   "metadata": {},
   "outputs": [],
   "source": [
    "## project: this week compared to the average in weed since stay at home \n",
    "## order being implemented"
   ]
  },
  {
   "cell_type": "code",
   "execution_count": 38,
   "metadata": {},
   "outputs": [],
   "source": [
    "## get the weekly average between the stay at home order and reopen \n",
    "## reindex \n",
    "index_list = []\n",
    "index_list = list(range(0, len(df_sd)))\n",
    "df_sd.index = index_list\n",
    "## get index of day of stay at home order\n",
    "start = df_sd[df_sd['date'] == '03-20'].index\n",
    "end = df_sd[df_sd['date'] == '06-12'].index\n",
    "\n",
    "##get the df for stay at home order\n",
    "df_sd_stay_at_home = df_sd.iloc[start[0]: end[0]]\n",
    "\n",
    "## get the df for reopening \n",
    "df_sd_reopen = df_sd.iloc[end[0]:]\n",
    "\n"
   ]
  },
  {
   "cell_type": "code",
   "execution_count": 39,
   "metadata": {},
   "outputs": [],
   "source": [
    "## get pv table for daily averages per day of week for df_stay_at_home and df_reopen\n",
    "pv_weekday_sd_stay_at_home = df_sd_stay_at_home.pivot_table(index = 'dayOfWeek', values = 'DailyCases')\n",
    "pv_weekday_sd_reopen = df_sd_reopen.pivot_table(index = 'dayOfWeek', values = 'DailyCases')\n"
   ]
  },
  {
   "cell_type": "code",
   "execution_count": 40,
   "metadata": {},
   "outputs": [
    {
     "data": {
      "text/plain": [
       "<matplotlib.legend.Legend at 0x7fe07d982510>"
      ]
     },
     "execution_count": 40,
     "metadata": {},
     "output_type": "execute_result"
    },
    {
     "data": {
      "image/png": "[encoded data removed]",
      "text/plain": [
       "<Figure size 432x288 with 1 Axes>"
      ]
     },
     "metadata": {
      "needs_background": "light"
     },
     "output_type": "display_data"
    }
   ],
   "source": [
    "## graphing the two \n",
    "N = 7\n",
    "ind = pv_weekday_sd_reopen.index  # the x locations for the groups\n",
    "width = 0.35       # the width of the bars\n",
    "pos = np.arange(N)+1\n",
    "fig,ax = plt.subplots()\n",
    "\n",
    "## creating rectangles for ax\n",
    "rects1 = ax.bar(pos+width, pv_weekday_sd_reopen['DailyCases'], width, color = 'r')\n",
    "rects2 = ax.bar(pos, pv_weekday_sd_stay_at_home['DailyCases'], width, color = 'y')\n",
    "\n",
    "ax.set_ylabel('Daily Cases')\n",
    "ax.set_title('San Diego COVID Daily Cases before and after reopening')\n",
    "ax.set_xticks(pos + width / 2)\n",
    "ax.set_xticklabels(('Mon', 'Tues', 'Weds', 'Thurs', 'Fri', 'Sat', 'Sun'))\n",
    "\n",
    "ax.legend((rects1[0], rects2[0]), ('After Reopening', 'Before Reopening'))"
   ]
  },
  {
   "cell_type": "code",
   "execution_count": 41,
   "metadata": {},
   "outputs": [
    {
     "data": {
      "text/html": [
       "<div>\n",
       "<style scoped>\n",
       "    .dataframe tbody tr th:only-of-type {\n",
       "        vertical-align: middle;\n",
       "    }\n",
       "\n",
       "    .dataframe tbody tr th {\n",
       "        vertical-align: top;\n",
       "    }\n",
       "\n",
       "    .dataframe thead th {\n",
       "        text-align: right;\n",
       "    }\n",
       "</style>\n",
       "<table border=\"1\" class=\"dataframe\">\n",
       "  <thead>\n",
       "    <tr style=\"text-align: right;\">\n",
       "      <th></th>\n",
       "      <th>City</th>\n",
       "      <th>confirmedcases</th>\n",
       "      <th>date</th>\n",
       "      <th>dayOfWeek</th>\n",
       "      <th>DailyCases</th>\n",
       "    </tr>\n",
       "  </thead>\n",
       "  <tbody>\n",
       "    <tr>\n",
       "      <th>0</th>\n",
       "      <td>San Diego</td>\n",
       "      <td>87.0</td>\n",
       "      <td>03-20</td>\n",
       "      <td>5</td>\n",
       "      <td>NaN</td>\n",
       "    </tr>\n",
       "    <tr>\n",
       "      <th>1</th>\n",
       "      <td>San Diego</td>\n",
       "      <td>118.0</td>\n",
       "      <td>03-21</td>\n",
       "      <td>6</td>\n",
       "      <td>31.0</td>\n",
       "    </tr>\n",
       "    <tr>\n",
       "      <th>2</th>\n",
       "      <td>San Diego</td>\n",
       "      <td>134.0</td>\n",
       "      <td>03-22</td>\n",
       "      <td>7</td>\n",
       "      <td>16.0</td>\n",
       "    </tr>\n",
       "    <tr>\n",
       "      <th>3</th>\n",
       "      <td>San Diego</td>\n",
       "      <td>141.0</td>\n",
       "      <td>03-23</td>\n",
       "      <td>1</td>\n",
       "      <td>7.0</td>\n",
       "    </tr>\n",
       "    <tr>\n",
       "      <th>4</th>\n",
       "      <td>San Diego</td>\n",
       "      <td>169.0</td>\n",
       "      <td>03-24</td>\n",
       "      <td>2</td>\n",
       "      <td>28.0</td>\n",
       "    </tr>\n",
       "  </tbody>\n",
       "</table>\n",
       "</div>"
      ],
      "text/plain": [
       "        City  confirmedcases   date dayOfWeek  DailyCases\n",
       "0  San Diego            87.0  03-20         5         NaN\n",
       "1  San Diego           118.0  03-21         6        31.0\n",
       "2  San Diego           134.0  03-22         7        16.0\n",
       "3  San Diego           141.0  03-23         1         7.0\n",
       "4  San Diego           169.0  03-24         2        28.0"
      ]
     },
     "execution_count": 41,
     "metadata": {},
     "output_type": "execute_result"
    }
   ],
   "source": [
    "## calculate average increase \n",
    "df_sd_stay_at_home.head()"
   ]
  },
  {
   "cell_type": "code",
   "execution_count": 42,
   "metadata": {},
   "outputs": [
    {
     "data": {
      "text/plain": [
       "pandas.core.indexes.base.Index"
      ]
     },
     "execution_count": 42,
     "metadata": {},
     "output_type": "execute_result"
    }
   ],
   "source": [
    "type(ind)"
   ]
  },
  {
   "cell_type": "code",
   "execution_count": 43,
   "metadata": {},
   "outputs": [
    {
     "name": "stdout",
     "output_type": "stream",
     "text": [
      "The T Score is -14.78, and the P-value is 0.00\n"
     ]
    }
   ],
   "source": [
    "## conduct 1 tail student t test \n",
    "t, p = stats.ttest_ind(df_sd_stay_at_home['DailyCases'], df_sd_reopen['DailyCases'], nan_policy='omit')\n",
    "print('The T Score is {:.2f}, and the P-value is {:.2f}'.format(t, p))"
   ]
  },
  {
   "cell_type": "code",
   "execution_count": null,
   "metadata": {},
   "outputs": [],
   "source": []
  },
  {
   "cell_type": "code",
   "execution_count": null,
   "metadata": {},
   "outputs": [],
   "source": []
  }
 ],
 "metadata": {
  "kernelspec": {
   "display_name": "Python 3",
   "language": "python",
   "name": "python3"
  },
  "language_info": {
   "codemirror_mode": {
    "name": "ipython",
    "version": 3
   },
   "file_extension": ".py",
   "mimetype": "text/x-python",
   "name": "python",
   "nbconvert_exporter": "python",
   "pygments_lexer": "ipython3",
   "version": "3.7.6"
  }
 },
 "nbformat": 4,
 "nbformat_minor": 4
}
