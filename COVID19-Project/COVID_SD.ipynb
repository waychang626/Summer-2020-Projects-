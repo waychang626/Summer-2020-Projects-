{
 "cells": [
  {
   "cell_type": "code",
   "execution_count": 1,
   "metadata": {},
   "outputs": [],
   "source": [
    "import pandas as pd \n",
    "import numpy as np \n",
    "from datetime import datetime\n",
    "import matplotlib.pyplot as plt"
   ]
  },
  {
   "cell_type": "code",
   "execution_count": 2,
   "metadata": {},
   "outputs": [],
   "source": [
    "df_covid = pd.read_csv('COVID-19_Statistics_by_Jurisdiction.csv')\n",
    "## https://sdgis-sandag.opendata.arcgis.com/datasets/covid-19-statistics-by-jurisdiction?geometry=-120.348%2C32.566%2C-115.965%2C33.372\n",
    "df_population = pd.read_csv('co-est2019-alldata.csv', encoding='latin-1')"
   ]
  },
  {
   "cell_type": "markdown",
   "metadata": {},
   "source": [
    "## Data Cleaning"
   ]
  },
  {
   "cell_type": "code",
   "execution_count": 3,
   "metadata": {},
   "outputs": [],
   "source": [
    "## changing covid's lastupdate to just the date \n",
    "lastUpdate = df_covid['lastupdate']\n",
    "update = []\n",
    "for t in lastUpdate:\n",
    "    ##getting rid of the time \n",
    "    date = t.split(' ')[0]\n",
    "    #print(date)\n",
    "    update.append(datetime.strptime(date, '%Y/%m/%d'))\n",
    "\n",
    "df_covid['date'] = update"
   ]
  },
  {
   "cell_type": "code",
   "execution_count": 4,
   "metadata": {},
   "outputs": [],
   "source": [
    "#df_covid['date'].iloc[0].weekday()\n",
    "## adding day of the week to df covid \n",
    "weekday = []\n",
    "for d in df_covid['date']:\n",
    "    weekday.append(str(d.isoweekday()))\n",
    "\n"
   ]
  },
  {
   "cell_type": "code",
   "execution_count": 5,
   "metadata": {},
   "outputs": [],
   "source": [
    "df_covid['dayOfWeek'] = weekday\n"
   ]
  },
  {
   "cell_type": "code",
   "execution_count": 6,
   "metadata": {},
   "outputs": [],
   "source": [
    "##convert time into str for date \n",
    "new_date =[]\n",
    "for e in df_covid.loc[:, 'date']:\n",
    "    new_date.append(e.strftime('%m-%d'))\n",
    "\n",
    "df_covid['date'] = new_date"
   ]
  },
  {
   "cell_type": "code",
   "execution_count": 7,
   "metadata": {},
   "outputs": [],
   "source": [
    "##leaving only the useful columns  for covid\n",
    "cols = ['name', 'confirmedcases', 'date', 'dayOfWeek']\n",
    "df_covid = df_covid[cols]"
   ]
  },
  {
   "cell_type": "code",
   "execution_count": 8,
   "metadata": {},
   "outputs": [],
   "source": [
    "##cleaning Name to title \n",
    "df_covid['name'] = df_covid['name'].str.title()\n",
    "df_covid.rename({'name' : 'City'}, inplace = True, axis = 1)"
   ]
  },
  {
   "cell_type": "code",
   "execution_count": 9,
   "metadata": {},
   "outputs": [
    {
     "data": {
      "text/plain": [
       "City              0\n",
       "confirmedcases    2\n",
       "date              0\n",
       "dayOfWeek         0\n",
       "dtype: int64"
      ]
     },
     "execution_count": 9,
     "metadata": {},
     "output_type": "execute_result"
    }
   ],
   "source": [
    "##check for null values \n",
    "df_covid.isnull().sum()\n",
    "\n",
    "## 1 null in confirmedcases"
   ]
  },
  {
   "cell_type": "code",
   "execution_count": 10,
   "metadata": {
    "scrolled": true
   },
   "outputs": [
    {
     "data": {
      "text/html": [
       "<div>\n",
       "<style scoped>\n",
       "    .dataframe tbody tr th:only-of-type {\n",
       "        vertical-align: middle;\n",
       "    }\n",
       "\n",
       "    .dataframe tbody tr th {\n",
       "        vertical-align: top;\n",
       "    }\n",
       "\n",
       "    .dataframe thead th {\n",
       "        text-align: right;\n",
       "    }\n",
       "</style>\n",
       "<table border=\"1\" class=\"dataframe\">\n",
       "  <thead>\n",
       "    <tr style=\"text-align: right;\">\n",
       "      <th></th>\n",
       "      <th>City</th>\n",
       "      <th>confirmedcases</th>\n",
       "      <th>date</th>\n",
       "      <th>dayOfWeek</th>\n",
       "    </tr>\n",
       "  </thead>\n",
       "  <tbody>\n",
       "    <tr>\n",
       "      <th>3604</th>\n",
       "      <td>Unknown</td>\n",
       "      <td>NaN</td>\n",
       "      <td>06-22</td>\n",
       "      <td>1</td>\n",
       "    </tr>\n",
       "    <tr>\n",
       "      <th>3730</th>\n",
       "      <td>Unknown</td>\n",
       "      <td>NaN</td>\n",
       "      <td>06-25</td>\n",
       "      <td>4</td>\n",
       "    </tr>\n",
       "  </tbody>\n",
       "</table>\n",
       "</div>"
      ],
      "text/plain": [
       "         City  confirmedcases   date dayOfWeek\n",
       "3604  Unknown             NaN  06-22         1\n",
       "3730  Unknown             NaN  06-25         4"
      ]
     },
     "execution_count": 10,
     "metadata": {},
     "output_type": "execute_result"
    }
   ],
   "source": [
    "## inspection of null value \n",
    "df_covid[df_covid['confirmedcases'].isnull()]\n"
   ]
  },
  {
   "cell_type": "code",
   "execution_count": 11,
   "metadata": {},
   "outputs": [],
   "source": [
    "##City is Unknown, most likely an input error\n",
    "df_covid = df_covid.dropna()"
   ]
  },
  {
   "cell_type": "code",
   "execution_count": 12,
   "metadata": {},
   "outputs": [
    {
     "data": {
      "text/plain": [
       "97"
      ]
     },
     "execution_count": 12,
     "metadata": {},
     "output_type": "execute_result"
    }
   ],
   "source": [
    "## inspect City == Unknown \n",
    "len(df_covid[df_covid['City'] == 'Unknown'])"
   ]
  },
  {
   "cell_type": "code",
   "execution_count": 13,
   "metadata": {},
   "outputs": [],
   "source": [
    "## 95 (already got rid of the null row) is the amount of days "
   ]
  },
  {
   "cell_type": "code",
   "execution_count": 14,
   "metadata": {},
   "outputs": [],
   "source": [
    "## clean population dataset \n",
    "\n",
    "cols = ['STNAME', 'CTYNAME', 'POPESTIMATE2019']\n",
    "df_population = df_population[cols]\n",
    "\n",
    "##renaming columns \n",
    "df_population.rename({'STNAME' : 'State', 'CTYNAME': 'City', 'POPESTIMATE2019' : 'Population'}, inplace = True, axis =1)\n"
   ]
  },
  {
   "cell_type": "code",
   "execution_count": 15,
   "metadata": {},
   "outputs": [],
   "source": [
    "## get california pop \n",
    "df_CA = df_population.loc[df_population['State'] == 'California', :]\n",
    "#df_CA.head()\n",
    "\n"
   ]
  },
  {
   "cell_type": "code",
   "execution_count": 16,
   "metadata": {},
   "outputs": [
    {
     "name": "stdout",
     "output_type": "stream",
     "text": [
      "<class 'pandas.core.frame.DataFrame'>\n",
      "Int64Index: 59 entries, 190 to 248\n",
      "Data columns (total 3 columns):\n",
      " #   Column      Non-Null Count  Dtype \n",
      "---  ------      --------------  ----- \n",
      " 0   State       59 non-null     object\n",
      " 1   City        59 non-null     object\n",
      " 2   Population  59 non-null     int64 \n",
      "dtypes: int64(1), object(2)\n",
      "memory usage: 1.8+ KB\n"
     ]
    },
    {
     "name": "stderr",
     "output_type": "stream",
     "text": [
      "/Users/waylonchang/anaconda3/lib/python3.7/site-packages/ipykernel_launcher.py:4: SettingWithCopyWarning: \n",
      "A value is trying to be set on a copy of a slice from a DataFrame.\n",
      "Try using .loc[row_indexer,col_indexer] = value instead\n",
      "\n",
      "See the caveats in the documentation: https://pandas.pydata.org/pandas-docs/stable/user_guide/indexing.html#returning-a-view-versus-a-copy\n",
      "  after removing the cwd from sys.path.\n"
     ]
    }
   ],
   "source": [
    "##getting rid of 'County'\n",
    "clean = []\n",
    "clean = df_CA['City'].str.replace('County','')\n",
    "df_CA['City'] = clean\n",
    "df_CA.reset_index(drop = True)\n",
    "df_CA.info()"
   ]
  },
  {
   "cell_type": "code",
   "execution_count": 17,
   "metadata": {
    "scrolled": true
   },
   "outputs": [],
   "source": [
    "#df_CA.head()"
   ]
  },
  {
   "cell_type": "markdown",
   "metadata": {},
   "source": [
    "## Merging "
   ]
  },
  {
   "cell_type": "code",
   "execution_count": 18,
   "metadata": {},
   "outputs": [],
   "source": [
    "df_covid_merged = pd.merge(how = 'right', left = df_covid, right = df_CA, on ='City', )"
   ]
  },
  {
   "cell_type": "markdown",
   "metadata": {},
   "source": [
    "## Analysis"
   ]
  },
  {
   "cell_type": "code",
   "execution_count": 19,
   "metadata": {},
   "outputs": [],
   "source": [
    "##helper function to determine if desired city is in dataset \n",
    "def find_city(city): \n",
    "    city = city.title()\n",
    "    print(city in df_covid['City'].unique())\n",
    "    "
   ]
  },
  {
   "cell_type": "code",
   "execution_count": 20,
   "metadata": {},
   "outputs": [
    {
     "name": "stdout",
     "output_type": "stream",
     "text": [
      "True\n"
     ]
    }
   ],
   "source": [
    "find_city('SAn diego')"
   ]
  },
  {
   "cell_type": "code",
   "execution_count": 21,
   "metadata": {},
   "outputs": [
    {
     "data": {
      "text/html": [
       "<div>\n",
       "<style scoped>\n",
       "    .dataframe tbody tr th:only-of-type {\n",
       "        vertical-align: middle;\n",
       "    }\n",
       "\n",
       "    .dataframe tbody tr th {\n",
       "        vertical-align: top;\n",
       "    }\n",
       "\n",
       "    .dataframe thead th {\n",
       "        text-align: right;\n",
       "    }\n",
       "</style>\n",
       "<table border=\"1\" class=\"dataframe\">\n",
       "  <thead>\n",
       "    <tr style=\"text-align: right;\">\n",
       "      <th></th>\n",
       "      <th>City</th>\n",
       "      <th>confirmedcases</th>\n",
       "      <th>date</th>\n",
       "      <th>dayOfWeek</th>\n",
       "    </tr>\n",
       "  </thead>\n",
       "  <tbody>\n",
       "    <tr>\n",
       "      <th>17</th>\n",
       "      <td>San Diego</td>\n",
       "      <td>207.0</td>\n",
       "      <td>03-25</td>\n",
       "      <td>3</td>\n",
       "    </tr>\n",
       "    <tr>\n",
       "      <th>41</th>\n",
       "      <td>San Diego</td>\n",
       "      <td>169.0</td>\n",
       "      <td>03-24</td>\n",
       "      <td>2</td>\n",
       "    </tr>\n",
       "    <tr>\n",
       "      <th>65</th>\n",
       "      <td>San Diego</td>\n",
       "      <td>251.0</td>\n",
       "      <td>03-26</td>\n",
       "      <td>4</td>\n",
       "    </tr>\n",
       "    <tr>\n",
       "      <th>89</th>\n",
       "      <td>San Diego</td>\n",
       "      <td>141.0</td>\n",
       "      <td>03-23</td>\n",
       "      <td>1</td>\n",
       "    </tr>\n",
       "    <tr>\n",
       "      <th>115</th>\n",
       "      <td>San Diego</td>\n",
       "      <td>134.0</td>\n",
       "      <td>03-22</td>\n",
       "      <td>7</td>\n",
       "    </tr>\n",
       "  </tbody>\n",
       "</table>\n",
       "</div>"
      ],
      "text/plain": [
       "          City  confirmedcases   date dayOfWeek\n",
       "17   San Diego           207.0  03-25         3\n",
       "41   San Diego           169.0  03-24         2\n",
       "65   San Diego           251.0  03-26         4\n",
       "89   San Diego           141.0  03-23         1\n",
       "115  San Diego           134.0  03-22         7"
      ]
     },
     "execution_count": 21,
     "metadata": {},
     "output_type": "execute_result"
    }
   ],
   "source": [
    "##group by date and graph in san diego\n",
    "df_sd = df_covid.loc[df_covid['City'] == 'San Diego', :]\n",
    "group_date = df_sd.groupby('date')\n",
    "sd_daily_count = group_date[['confirmedcases', 'date']].sum()\n",
    "df_sd.head()"
   ]
  },
  {
   "cell_type": "code",
   "execution_count": 22,
   "metadata": {},
   "outputs": [],
   "source": [
    "## get daily count in SD\n",
    "df_sd = df_sd.sort_values('date')\n",
    "diff = df_sd['confirmedcases'] - df_sd['confirmedcases'].shift(1)\n",
    "df_sd['DailyCases'] = diff\n"
   ]
  },
  {
   "cell_type": "code",
   "execution_count": 23,
   "metadata": {},
   "outputs": [
    {
     "data": {
      "text/html": [
       "<div>\n",
       "<style scoped>\n",
       "    .dataframe tbody tr th:only-of-type {\n",
       "        vertical-align: middle;\n",
       "    }\n",
       "\n",
       "    .dataframe tbody tr th {\n",
       "        vertical-align: top;\n",
       "    }\n",
       "\n",
       "    .dataframe thead th {\n",
       "        text-align: right;\n",
       "    }\n",
       "</style>\n",
       "<table border=\"1\" class=\"dataframe\">\n",
       "  <thead>\n",
       "    <tr style=\"text-align: right;\">\n",
       "      <th></th>\n",
       "      <th>City</th>\n",
       "      <th>confirmedcases</th>\n",
       "      <th>dayOfWeek</th>\n",
       "      <th>DailyCases</th>\n",
       "    </tr>\n",
       "    <tr>\n",
       "      <th>date</th>\n",
       "      <th></th>\n",
       "      <th></th>\n",
       "      <th></th>\n",
       "      <th></th>\n",
       "    </tr>\n",
       "  </thead>\n",
       "  <tbody>\n",
       "    <tr>\n",
       "      <th>03-20</th>\n",
       "      <td>San Diego</td>\n",
       "      <td>87.0</td>\n",
       "      <td>5</td>\n",
       "      <td>NaN</td>\n",
       "    </tr>\n",
       "    <tr>\n",
       "      <th>03-21</th>\n",
       "      <td>San Diego</td>\n",
       "      <td>118.0</td>\n",
       "      <td>6</td>\n",
       "      <td>31.0</td>\n",
       "    </tr>\n",
       "    <tr>\n",
       "      <th>03-22</th>\n",
       "      <td>San Diego</td>\n",
       "      <td>134.0</td>\n",
       "      <td>7</td>\n",
       "      <td>16.0</td>\n",
       "    </tr>\n",
       "    <tr>\n",
       "      <th>03-23</th>\n",
       "      <td>San Diego</td>\n",
       "      <td>141.0</td>\n",
       "      <td>1</td>\n",
       "      <td>7.0</td>\n",
       "    </tr>\n",
       "    <tr>\n",
       "      <th>03-24</th>\n",
       "      <td>San Diego</td>\n",
       "      <td>169.0</td>\n",
       "      <td>2</td>\n",
       "      <td>28.0</td>\n",
       "    </tr>\n",
       "    <tr>\n",
       "      <th>...</th>\n",
       "      <td>...</td>\n",
       "      <td>...</td>\n",
       "      <td>...</td>\n",
       "      <td>...</td>\n",
       "    </tr>\n",
       "    <tr>\n",
       "      <th>06-22</th>\n",
       "      <td>San Diego</td>\n",
       "      <td>5010.0</td>\n",
       "      <td>1</td>\n",
       "      <td>88.0</td>\n",
       "    </tr>\n",
       "    <tr>\n",
       "      <th>06-23</th>\n",
       "      <td>San Diego</td>\n",
       "      <td>5149.0</td>\n",
       "      <td>2</td>\n",
       "      <td>139.0</td>\n",
       "    </tr>\n",
       "    <tr>\n",
       "      <th>06-24</th>\n",
       "      <td>San Diego</td>\n",
       "      <td>5315.0</td>\n",
       "      <td>3</td>\n",
       "      <td>166.0</td>\n",
       "    </tr>\n",
       "    <tr>\n",
       "      <th>06-25</th>\n",
       "      <td>San Diego</td>\n",
       "      <td>5535.0</td>\n",
       "      <td>4</td>\n",
       "      <td>220.0</td>\n",
       "    </tr>\n",
       "    <tr>\n",
       "      <th>06-26</th>\n",
       "      <td>San Diego</td>\n",
       "      <td>5723.0</td>\n",
       "      <td>5</td>\n",
       "      <td>188.0</td>\n",
       "    </tr>\n",
       "  </tbody>\n",
       "</table>\n",
       "<p>99 rows × 4 columns</p>\n",
       "</div>"
      ],
      "text/plain": [
       "            City  confirmedcases dayOfWeek  DailyCases\n",
       "date                                                  \n",
       "03-20  San Diego            87.0         5         NaN\n",
       "03-21  San Diego           118.0         6        31.0\n",
       "03-22  San Diego           134.0         7        16.0\n",
       "03-23  San Diego           141.0         1         7.0\n",
       "03-24  San Diego           169.0         2        28.0\n",
       "...          ...             ...       ...         ...\n",
       "06-22  San Diego          5010.0         1        88.0\n",
       "06-23  San Diego          5149.0         2       139.0\n",
       "06-24  San Diego          5315.0         3       166.0\n",
       "06-25  San Diego          5535.0         4       220.0\n",
       "06-26  San Diego          5723.0         5       188.0\n",
       "\n",
       "[99 rows x 4 columns]"
      ]
     },
     "execution_count": 23,
     "metadata": {},
     "output_type": "execute_result"
    }
   ],
   "source": [
    "## make new columns that's the difference between confirmed cases to get \n",
    "## daily count \n",
    "\n",
    "#df_sd.head()\n",
    "df_sd = df_sd.sort_values('date')\n",
    "df_sd.set_index('date')\n"
   ]
  },
  {
   "cell_type": "code",
   "execution_count": 24,
   "metadata": {},
   "outputs": [
    {
     "data": {
      "text/html": [
       "<div>\n",
       "<style scoped>\n",
       "    .dataframe tbody tr th:only-of-type {\n",
       "        vertical-align: middle;\n",
       "    }\n",
       "\n",
       "    .dataframe tbody tr th {\n",
       "        vertical-align: top;\n",
       "    }\n",
       "\n",
       "    .dataframe thead th {\n",
       "        text-align: right;\n",
       "    }\n",
       "</style>\n",
       "<table border=\"1\" class=\"dataframe\">\n",
       "  <thead>\n",
       "    <tr style=\"text-align: right;\">\n",
       "      <th></th>\n",
       "      <th>DailyCases</th>\n",
       "    </tr>\n",
       "    <tr>\n",
       "      <th>date</th>\n",
       "      <th></th>\n",
       "    </tr>\n",
       "  </thead>\n",
       "  <tbody>\n",
       "    <tr>\n",
       "      <th>06-22</th>\n",
       "      <td>88.0</td>\n",
       "    </tr>\n",
       "    <tr>\n",
       "      <th>06-23</th>\n",
       "      <td>139.0</td>\n",
       "    </tr>\n",
       "    <tr>\n",
       "      <th>06-24</th>\n",
       "      <td>166.0</td>\n",
       "    </tr>\n",
       "    <tr>\n",
       "      <th>06-25</th>\n",
       "      <td>220.0</td>\n",
       "    </tr>\n",
       "    <tr>\n",
       "      <th>06-26</th>\n",
       "      <td>188.0</td>\n",
       "    </tr>\n",
       "  </tbody>\n",
       "</table>\n",
       "</div>"
      ],
      "text/plain": [
       "       DailyCases\n",
       "date             \n",
       "06-22        88.0\n",
       "06-23       139.0\n",
       "06-24       166.0\n",
       "06-25       220.0\n",
       "06-26       188.0"
      ]
     },
     "execution_count": 24,
     "metadata": {},
     "output_type": "execute_result"
    }
   ],
   "source": [
    "sd_pv = df_sd.pivot_table(index = 'date', values = 'DailyCases')\n",
    "sd_pv.tail()\n"
   ]
  },
  {
   "cell_type": "code",
   "execution_count": 25,
   "metadata": {},
   "outputs": [
    {
     "data": {
      "text/plain": [
       "<matplotlib.axes._subplots.AxesSubplot at 0x102ddda10>"
      ]
     },
     "execution_count": 25,
     "metadata": {},
     "output_type": "execute_result"
    },
    {
     "data": {
      "image/png": "[encoded data removed]",
      "text/plain": [
       "<Figure size 432x288 with 1 Axes>"
      ]
     },
     "metadata": {
      "needs_background": "light"
     },
     "output_type": "display_data"
    }
   ],
   "source": [
    "## graph last 14 days in sd \n",
    "sd_pv[-14:].plot(kind = 'line', title='COVID in SD from {} to {}'.format(sd_pv.index[-14], sd_pv.index[-1]))\n",
    "\n",
    "\n"
   ]
  },
  {
   "cell_type": "code",
   "execution_count": 26,
   "metadata": {},
   "outputs": [],
   "source": [
    "## graphing last week compared to two weeks ago"
   ]
  },
  {
   "cell_type": "code",
   "execution_count": 27,
   "metadata": {},
   "outputs": [],
   "source": [
    "## making dataframe for "
   ]
  },
  {
   "cell_type": "code",
   "execution_count": 36,
   "metadata": {},
   "outputs": [
    {
     "data": {
      "text/plain": [
       "<matplotlib.legend.Legend at 0x11a213550>"
      ]
     },
     "execution_count": 36,
     "metadata": {},
     "output_type": "execute_result"
    },
    {
     "data": {
      "image/png": "[encoded data removed]",
      "text/plain": [
       "<Figure size 432x288 with 1 Axes>"
      ]
     },
     "metadata": {
      "needs_background": "light"
     },
     "output_type": "display_data"
    }
   ],
   "source": [
    "## could fix this so the two graphs overlap, and use the day \n",
    "## of the week as x axis\n",
    "df_sd_twoweeks_before = df_sd[['dayOfWeek', 'DailyCases']].iloc[-14:-7]\n",
    "df_sd_oneweek_before = df_sd[['dayOfWeek', 'DailyCases']].iloc[-7:]\n",
    "\n",
    "plt.plot(df_sd_twoweeks_before['dayOfWeek'], df_sd_twoweeks_before['DailyCases'], label = '{} - {}'.format(df_sd['date'].iloc[-14], df_sd['date'].iloc[-8]))\n",
    "plt.plot(df_sd_oneweek_before['dayOfWeek'], df_sd_oneweek_before['DailyCases'], label = '{} - {}'.format(df_sd['date'].iloc[-7], df_sd['date'].iloc[-1]))\n",
    "plt.title('San Diego Covid in the Past 2 Weeks')\n",
    "plt.ylabel('Daily Confirmed Cases')\n",
    "plt.xlabel('Day of the week')\n",
    "plt.legend()\n",
    "\n",
    "\n",
    "\n"
   ]
  },
  {
   "cell_type": "code",
   "execution_count": 29,
   "metadata": {},
   "outputs": [],
   "source": [
    "## find out mean of week and see if there is a mismatch amongst days \n",
    "##hypothesis: tuesdays move the slowest? \n"
   ]
  },
  {
   "cell_type": "code",
   "execution_count": 30,
   "metadata": {},
   "outputs": [],
   "source": [
    "weekday_sd_pv = df_sd.pivot_table(index = 'dayOfWeek', values = 'DailyCases')\n",
    "\n"
   ]
  },
  {
   "cell_type": "code",
   "execution_count": 31,
   "metadata": {},
   "outputs": [
    {
     "data": {
      "text/plain": [
       "Text(0.5, 0, 'Day of Week')"
      ]
     },
     "execution_count": 31,
     "metadata": {},
     "output_type": "execute_result"
    },
    {
     "data": {
      "image/png": "[encoded data removed]",
      "text/plain": [
       "<Figure size 432x288 with 1 Axes>"
      ]
     },
     "metadata": {
      "needs_background": "light"
     },
     "output_type": "display_data"
    }
   ],
   "source": [
    "ax = weekday_sd_pv.plot(kind='bar', rot = 0, title = 'New Daily Cases on average by the day of the week in SD')\n",
    "ax.set_xlabel('Day of Week')\n"
   ]
  },
  {
   "cell_type": "code",
   "execution_count": null,
   "metadata": {},
   "outputs": [],
   "source": []
  },
  {
   "cell_type": "code",
   "execution_count": 32,
   "metadata": {},
   "outputs": [
    {
     "data": {
      "text/plain": [
       "array(['Carlsbad', 'Chula Vista', 'Coronado', 'Del Mar', 'El Cajon',\n",
       "       'Encinitas', 'Escondido', 'Imperial Beach', 'La Mesa',\n",
       "       'Lemon Grove', 'National City', 'Oceanside', 'Poway', 'San Marcos',\n",
       "       'Santee', 'Solana Beach', 'Vista', 'San Diego', 'Rancho Santa Fe',\n",
       "       'Ramona', 'Fallbrook', 'Lakeside', 'Bonita', 'Spring Valley',\n",
       "       'Unknown', 'Federal Quarantine', 'Other', 'Pauma Valley', 'Alpine',\n",
       "       'Borrego Springs', 'Descanso', 'Jamul', 'Ranchita',\n",
       "       'Valley Center', 'Boulevard', 'Bonsall', 'Potrero', 'Campo',\n",
       "       'Julian', 'Pala', 'Tecate', 'Santa Ysabel', 'Dulzura'],\n",
       "      dtype=object)"
      ]
     },
     "execution_count": 32,
     "metadata": {},
     "output_type": "execute_result"
    }
   ],
   "source": [
    "df_covid['City'].unique()"
   ]
  },
  {
   "cell_type": "code",
   "execution_count": null,
   "metadata": {},
   "outputs": [],
   "source": [
    "## project: this week compared to the average week/last week???\n",
    "## in terms of statistical analyssis\n"
   ]
  }
 ],
 "metadata": {
  "kernelspec": {
   "display_name": "Python 3",
   "language": "python",
   "name": "python3"
  },
  "language_info": {
   "codemirror_mode": {
    "name": "ipython",
    "version": 3
   },
   "file_extension": ".py",
   "mimetype": "text/x-python",
   "name": "python",
   "nbconvert_exporter": "python",
   "pygments_lexer": "ipython3",
   "version": "3.7.6"
  }
 },
 "nbformat": 4,
 "nbformat_minor": 4
}
