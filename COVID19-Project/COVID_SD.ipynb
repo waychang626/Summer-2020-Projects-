{
 "cells": [
  {
   "cell_type": "code",
   "execution_count": 1,
   "metadata": {},
   "outputs": [],
   "source": [
    "import pandas as pd \n",
    "import requests\n",
    "import io\n",
    "import numpy as np \n",
    "from datetime import datetime\n",
    "import matplotlib.pyplot as plt\n",
    "from scipy import stats\n",
    "from itertools import chain "
   ]
  },
  {
   "cell_type": "code",
   "execution_count": 2,
   "metadata": {},
   "outputs": [],
   "source": [
    "df_covid = pd.read_csv('Datasets/COVID-19_Statistics_by_Jurisdiction.csv')\n",
    "#https://sdgis-sandag.opendata.arcgis.com/datasets/covid-19-statistics-by-jurisdiction?geometry=-120.348%2C32.566%2C-115.965%2C33.372\n",
    "\n",
    "df_population = pd.read_csv('Datasets/sub-est2019_6.csv', encoding = 'latin-1')\n",
    "ca_population = pd.read_csv('Datasets/sub-est2019_6.csv', encoding = 'latin-1')\n",
    "\n",
    "\n",
    "ca_covid = pd.read_csv('Datasets/ca_covid.csv')\n",
    "#https://data.ca.gov/dataset/covid-19-cases/resource/926fd08f-cc91-4828-af38-bd45de97f8c3\n"
   ]
  },
  {
   "cell_type": "code",
   "execution_count": 3,
   "metadata": {
    "scrolled": true
   },
   "outputs": [
    {
     "data": {
      "text/html": [
       "<div>\n",
       "<style scoped>\n",
       "    .dataframe tbody tr th:only-of-type {\n",
       "        vertical-align: middle;\n",
       "    }\n",
       "\n",
       "    .dataframe tbody tr th {\n",
       "        vertical-align: top;\n",
       "    }\n",
       "\n",
       "    .dataframe thead th {\n",
       "        text-align: right;\n",
       "    }\n",
       "</style>\n",
       "<table border=\"1\" class=\"dataframe\">\n",
       "  <thead>\n",
       "    <tr style=\"text-align: right;\">\n",
       "      <th></th>\n",
       "      <th>X</th>\n",
       "      <th>Y</th>\n",
       "      <th>objectid</th>\n",
       "      <th>name</th>\n",
       "      <th>loctype</th>\n",
       "      <th>lastupdate</th>\n",
       "      <th>confirmedcases</th>\n",
       "      <th>globalid</th>\n",
       "    </tr>\n",
       "  </thead>\n",
       "  <tbody>\n",
       "    <tr>\n",
       "      <th>0</th>\n",
       "      <td>-1.305594e+07</td>\n",
       "      <td>3.911860e+06</td>\n",
       "      <td>1</td>\n",
       "      <td>CARLSBAD</td>\n",
       "      <td>Incorporated City</td>\n",
       "      <td>2020/03/25 08:00:00+00</td>\n",
       "      <td>15.0</td>\n",
       "      <td>{CA43BC61-F00E-43DA-864C-CBC1F16B6A3C}</td>\n",
       "    </tr>\n",
       "    <tr>\n",
       "      <th>1</th>\n",
       "      <td>-1.302598e+07</td>\n",
       "      <td>3.845996e+06</td>\n",
       "      <td>2</td>\n",
       "      <td>CHULA VISTA</td>\n",
       "      <td>Incorporated City</td>\n",
       "      <td>2020/03/25 08:00:00+00</td>\n",
       "      <td>17.0</td>\n",
       "      <td>{2CE6CDA6-D1C0-456D-B7CE-F918EA498AFA}</td>\n",
       "    </tr>\n",
       "    <tr>\n",
       "      <th>2</th>\n",
       "      <td>-1.304031e+07</td>\n",
       "      <td>3.849683e+06</td>\n",
       "      <td>3</td>\n",
       "      <td>CORONADO</td>\n",
       "      <td>Incorporated City</td>\n",
       "      <td>2020/03/25 08:00:00+00</td>\n",
       "      <td>0.0</td>\n",
       "      <td>{5CE8E228-596C-41E3-8907-59B07B03EFF7}</td>\n",
       "    </tr>\n",
       "    <tr>\n",
       "      <th>3</th>\n",
       "      <td>-1.305360e+07</td>\n",
       "      <td>3.890456e+06</td>\n",
       "      <td>4</td>\n",
       "      <td>DEL MAR</td>\n",
       "      <td>Incorporated City</td>\n",
       "      <td>2020/03/25 08:00:00+00</td>\n",
       "      <td>5.0</td>\n",
       "      <td>{10A1A7A3-4861-45EB-82E3-A1B86B069030}</td>\n",
       "    </tr>\n",
       "    <tr>\n",
       "      <th>4</th>\n",
       "      <td>-1.301998e+07</td>\n",
       "      <td>3.869010e+06</td>\n",
       "      <td>5</td>\n",
       "      <td>EL CAJON</td>\n",
       "      <td>Incorporated City</td>\n",
       "      <td>2020/03/25 08:00:00+00</td>\n",
       "      <td>19.0</td>\n",
       "      <td>{3DDD847F-24D3-4ACB-A761-F7C2BEDDDD3C}</td>\n",
       "    </tr>\n",
       "  </tbody>\n",
       "</table>\n",
       "</div>"
      ],
      "text/plain": [
       "              X             Y  objectid         name            loctype  \\\n",
       "0 -1.305594e+07  3.911860e+06         1     CARLSBAD  Incorporated City   \n",
       "1 -1.302598e+07  3.845996e+06         2  CHULA VISTA  Incorporated City   \n",
       "2 -1.304031e+07  3.849683e+06         3     CORONADO  Incorporated City   \n",
       "3 -1.305360e+07  3.890456e+06         4      DEL MAR  Incorporated City   \n",
       "4 -1.301998e+07  3.869010e+06         5     EL CAJON  Incorporated City   \n",
       "\n",
       "               lastupdate  confirmedcases  \\\n",
       "0  2020/03/25 08:00:00+00            15.0   \n",
       "1  2020/03/25 08:00:00+00            17.0   \n",
       "2  2020/03/25 08:00:00+00             0.0   \n",
       "3  2020/03/25 08:00:00+00             5.0   \n",
       "4  2020/03/25 08:00:00+00            19.0   \n",
       "\n",
       "                                 globalid  \n",
       "0  {CA43BC61-F00E-43DA-864C-CBC1F16B6A3C}  \n",
       "1  {2CE6CDA6-D1C0-456D-B7CE-F918EA498AFA}  \n",
       "2  {5CE8E228-596C-41E3-8907-59B07B03EFF7}  \n",
       "3  {10A1A7A3-4861-45EB-82E3-A1B86B069030}  \n",
       "4  {3DDD847F-24D3-4ACB-A761-F7C2BEDDDD3C}  "
      ]
     },
     "execution_count": 3,
     "metadata": {},
     "output_type": "execute_result"
    }
   ],
   "source": [
    "df_covid.head()"
   ]
  },
  {
   "cell_type": "markdown",
   "metadata": {},
   "source": [
    "## Data Cleaning"
   ]
  },
  {
   "cell_type": "code",
   "execution_count": 4,
   "metadata": {},
   "outputs": [
    {
     "data": {
      "text/html": [
       "<div>\n",
       "<style scoped>\n",
       "    .dataframe tbody tr th:only-of-type {\n",
       "        vertical-align: middle;\n",
       "    }\n",
       "\n",
       "    .dataframe tbody tr th {\n",
       "        vertical-align: top;\n",
       "    }\n",
       "\n",
       "    .dataframe thead th {\n",
       "        text-align: right;\n",
       "    }\n",
       "</style>\n",
       "<table border=\"1\" class=\"dataframe\">\n",
       "  <thead>\n",
       "    <tr style=\"text-align: right;\">\n",
       "      <th></th>\n",
       "      <th>X</th>\n",
       "      <th>Y</th>\n",
       "      <th>objectid</th>\n",
       "      <th>name</th>\n",
       "      <th>loctype</th>\n",
       "      <th>lastupdate</th>\n",
       "      <th>confirmedcases</th>\n",
       "      <th>globalid</th>\n",
       "    </tr>\n",
       "  </thead>\n",
       "  <tbody>\n",
       "    <tr>\n",
       "      <th>6917</th>\n",
       "      <td>-1.298458e+07</td>\n",
       "      <td>3.915396e+06</td>\n",
       "      <td>7006</td>\n",
       "      <td>Santa Ysabel</td>\n",
       "      <td>Unincorporated</td>\n",
       "      <td>2020/09/05 08:00:00+00</td>\n",
       "      <td>3.0</td>\n",
       "      <td>{6C252C4D-844F-4BDD-A6E2-C7BEF6EE4184}</td>\n",
       "    </tr>\n",
       "    <tr>\n",
       "      <th>6918</th>\n",
       "      <td>-1.299955e+07</td>\n",
       "      <td>3.843855e+06</td>\n",
       "      <td>7007</td>\n",
       "      <td>Dulzura</td>\n",
       "      <td>Unincorporated</td>\n",
       "      <td>2020/09/05 08:00:00+00</td>\n",
       "      <td>46.0</td>\n",
       "      <td>{2E4D0ACB-DE70-4ADB-BFD4-2BB93BCD475B}</td>\n",
       "    </tr>\n",
       "    <tr>\n",
       "      <th>6919</th>\n",
       "      <td>-1.297132e+07</td>\n",
       "      <td>3.869190e+06</td>\n",
       "      <td>7008</td>\n",
       "      <td>Pine Valley</td>\n",
       "      <td>Unincorporated</td>\n",
       "      <td>2020/09/05 08:00:00+00</td>\n",
       "      <td>5.0</td>\n",
       "      <td>{B16268F1-AF83-4F5A-82E6-DDEEEBA864B4}</td>\n",
       "    </tr>\n",
       "    <tr>\n",
       "      <th>6920</th>\n",
       "      <td>-1.297814e+07</td>\n",
       "      <td>3.935430e+06</td>\n",
       "      <td>7009</td>\n",
       "      <td>Warner Springs</td>\n",
       "      <td>Unincorporated</td>\n",
       "      <td>2020/09/05 08:00:00+00</td>\n",
       "      <td>21.0</td>\n",
       "      <td>{C2BE8F58-C130-4D59-B705-5CAF4F0C4E83}</td>\n",
       "    </tr>\n",
       "    <tr>\n",
       "      <th>6921</th>\n",
       "      <td>-1.293145e+07</td>\n",
       "      <td>3.857088e+06</td>\n",
       "      <td>7010</td>\n",
       "      <td>Jacumba</td>\n",
       "      <td>Unincorporated</td>\n",
       "      <td>2020/09/05 08:00:00+00</td>\n",
       "      <td>2.0</td>\n",
       "      <td>{1E725F0B-B23B-4752-AF8C-CDE11E06B4ED}</td>\n",
       "    </tr>\n",
       "  </tbody>\n",
       "</table>\n",
       "</div>"
      ],
      "text/plain": [
       "                 X             Y  objectid            name         loctype  \\\n",
       "6917 -1.298458e+07  3.915396e+06      7006    Santa Ysabel  Unincorporated   \n",
       "6918 -1.299955e+07  3.843855e+06      7007         Dulzura  Unincorporated   \n",
       "6919 -1.297132e+07  3.869190e+06      7008     Pine Valley  Unincorporated   \n",
       "6920 -1.297814e+07  3.935430e+06      7009  Warner Springs  Unincorporated   \n",
       "6921 -1.293145e+07  3.857088e+06      7010         Jacumba  Unincorporated   \n",
       "\n",
       "                  lastupdate  confirmedcases  \\\n",
       "6917  2020/09/05 08:00:00+00             3.0   \n",
       "6918  2020/09/05 08:00:00+00            46.0   \n",
       "6919  2020/09/05 08:00:00+00             5.0   \n",
       "6920  2020/09/05 08:00:00+00            21.0   \n",
       "6921  2020/09/05 08:00:00+00             2.0   \n",
       "\n",
       "                                    globalid  \n",
       "6917  {6C252C4D-844F-4BDD-A6E2-C7BEF6EE4184}  \n",
       "6918  {2E4D0ACB-DE70-4ADB-BFD4-2BB93BCD475B}  \n",
       "6919  {B16268F1-AF83-4F5A-82E6-DDEEEBA864B4}  \n",
       "6920  {C2BE8F58-C130-4D59-B705-5CAF4F0C4E83}  \n",
       "6921  {1E725F0B-B23B-4752-AF8C-CDE11E06B4ED}  "
      ]
     },
     "execution_count": 4,
     "metadata": {},
     "output_type": "execute_result"
    }
   ],
   "source": [
    "df_covid.tail()"
   ]
  },
  {
   "cell_type": "code",
   "execution_count": 5,
   "metadata": {},
   "outputs": [],
   "source": [
    "## changing covid's lastupdate to just the date \n",
    "lastUpdate = df_covid['lastupdate']\n",
    "update = []\n",
    "for t in lastUpdate:\n",
    "    ##getting rid of the time \n",
    "    date = t.split(' ')[0]\n",
    "    #print(date)\n",
    "    update.append(datetime.strptime(date, '%Y/%m/%d'))\n",
    "\n",
    "df_covid['date'] = update"
   ]
  },
  {
   "cell_type": "code",
   "execution_count": 6,
   "metadata": {},
   "outputs": [],
   "source": [
    "#df_covid['date'].iloc[0].weekday()\n",
    "## adding day of the week to df covid \n",
    "weekday = []\n",
    "for d in df_covid['date']:\n",
    "    weekday.append(str(d.isoweekday()))\n",
    "\n"
   ]
  },
  {
   "cell_type": "code",
   "execution_count": 7,
   "metadata": {},
   "outputs": [],
   "source": [
    "df_covid['dayOfWeek'] = weekday\n"
   ]
  },
  {
   "cell_type": "code",
   "execution_count": 8,
   "metadata": {},
   "outputs": [],
   "source": [
    "##convert time into str for date \n",
    "new_date =[]\n",
    "for e in df_covid.loc[:, 'date']:\n",
    "    new_date.append(e.strftime('%m-%d'))\n",
    "\n",
    "df_covid['date'] = new_date"
   ]
  },
  {
   "cell_type": "code",
   "execution_count": 9,
   "metadata": {},
   "outputs": [],
   "source": [
    "##leaving only the useful columns  for covid\n",
    "cols = ['name', 'confirmedcases', 'date', 'dayOfWeek']\n",
    "df_covid = df_covid[cols]"
   ]
  },
  {
   "cell_type": "code",
   "execution_count": 10,
   "metadata": {},
   "outputs": [],
   "source": [
    "##cleaning Name to title \n",
    "df_covid['name'] = df_covid['name'].str.title()\n",
    "df_covid.rename({'name' : 'City'}, inplace = True, axis = 1)"
   ]
  },
  {
   "cell_type": "code",
   "execution_count": 11,
   "metadata": {},
   "outputs": [
    {
     "data": {
      "text/plain": [
       "City               0\n",
       "confirmedcases    35\n",
       "date               0\n",
       "dayOfWeek          0\n",
       "dtype: int64"
      ]
     },
     "execution_count": 11,
     "metadata": {},
     "output_type": "execute_result"
    }
   ],
   "source": [
    "##check for null values \n",
    "df_covid.isnull().sum()\n",
    "\n",
    "## 1 null in confirmedcases"
   ]
  },
  {
   "cell_type": "code",
   "execution_count": 12,
   "metadata": {
    "scrolled": true
   },
   "outputs": [
    {
     "data": {
      "text/html": [
       "<div>\n",
       "<style scoped>\n",
       "    .dataframe tbody tr th:only-of-type {\n",
       "        vertical-align: middle;\n",
       "    }\n",
       "\n",
       "    .dataframe tbody tr th {\n",
       "        vertical-align: top;\n",
       "    }\n",
       "\n",
       "    .dataframe thead th {\n",
       "        text-align: right;\n",
       "    }\n",
       "</style>\n",
       "<table border=\"1\" class=\"dataframe\">\n",
       "  <thead>\n",
       "    <tr style=\"text-align: right;\">\n",
       "      <th></th>\n",
       "      <th>City</th>\n",
       "      <th>confirmedcases</th>\n",
       "      <th>date</th>\n",
       "      <th>dayOfWeek</th>\n",
       "    </tr>\n",
       "  </thead>\n",
       "  <tbody>\n",
       "    <tr>\n",
       "      <th>3604</th>\n",
       "      <td>Unknown</td>\n",
       "      <td>NaN</td>\n",
       "      <td>06-22</td>\n",
       "      <td>1</td>\n",
       "    </tr>\n",
       "    <tr>\n",
       "      <th>3730</th>\n",
       "      <td>Unknown</td>\n",
       "      <td>NaN</td>\n",
       "      <td>06-25</td>\n",
       "      <td>4</td>\n",
       "    </tr>\n",
       "    <tr>\n",
       "      <th>5478</th>\n",
       "      <td>Unknown</td>\n",
       "      <td>NaN</td>\n",
       "      <td>08-04</td>\n",
       "      <td>2</td>\n",
       "    </tr>\n",
       "    <tr>\n",
       "      <th>5522</th>\n",
       "      <td>Unknown</td>\n",
       "      <td>NaN</td>\n",
       "      <td>08-05</td>\n",
       "      <td>3</td>\n",
       "    </tr>\n",
       "    <tr>\n",
       "      <th>5566</th>\n",
       "      <td>Unknown</td>\n",
       "      <td>NaN</td>\n",
       "      <td>08-06</td>\n",
       "      <td>4</td>\n",
       "    </tr>\n",
       "    <tr>\n",
       "      <th>5610</th>\n",
       "      <td>Unknown</td>\n",
       "      <td>NaN</td>\n",
       "      <td>08-07</td>\n",
       "      <td>5</td>\n",
       "    </tr>\n",
       "    <tr>\n",
       "      <th>5654</th>\n",
       "      <td>Unknown</td>\n",
       "      <td>NaN</td>\n",
       "      <td>08-08</td>\n",
       "      <td>6</td>\n",
       "    </tr>\n",
       "    <tr>\n",
       "      <th>5698</th>\n",
       "      <td>Unknown</td>\n",
       "      <td>NaN</td>\n",
       "      <td>08-09</td>\n",
       "      <td>7</td>\n",
       "    </tr>\n",
       "    <tr>\n",
       "      <th>5742</th>\n",
       "      <td>Unknown</td>\n",
       "      <td>NaN</td>\n",
       "      <td>08-10</td>\n",
       "      <td>1</td>\n",
       "    </tr>\n",
       "    <tr>\n",
       "      <th>5786</th>\n",
       "      <td>Unknown</td>\n",
       "      <td>NaN</td>\n",
       "      <td>08-11</td>\n",
       "      <td>2</td>\n",
       "    </tr>\n",
       "    <tr>\n",
       "      <th>5830</th>\n",
       "      <td>Unknown</td>\n",
       "      <td>NaN</td>\n",
       "      <td>08-12</td>\n",
       "      <td>3</td>\n",
       "    </tr>\n",
       "    <tr>\n",
       "      <th>5874</th>\n",
       "      <td>Unknown</td>\n",
       "      <td>NaN</td>\n",
       "      <td>08-13</td>\n",
       "      <td>4</td>\n",
       "    </tr>\n",
       "    <tr>\n",
       "      <th>5918</th>\n",
       "      <td>Unknown</td>\n",
       "      <td>NaN</td>\n",
       "      <td>08-14</td>\n",
       "      <td>5</td>\n",
       "    </tr>\n",
       "    <tr>\n",
       "      <th>5962</th>\n",
       "      <td>Unknown</td>\n",
       "      <td>NaN</td>\n",
       "      <td>08-15</td>\n",
       "      <td>6</td>\n",
       "    </tr>\n",
       "    <tr>\n",
       "      <th>6006</th>\n",
       "      <td>Unknown</td>\n",
       "      <td>NaN</td>\n",
       "      <td>08-16</td>\n",
       "      <td>7</td>\n",
       "    </tr>\n",
       "    <tr>\n",
       "      <th>6050</th>\n",
       "      <td>Unknown</td>\n",
       "      <td>NaN</td>\n",
       "      <td>08-17</td>\n",
       "      <td>1</td>\n",
       "    </tr>\n",
       "    <tr>\n",
       "      <th>6094</th>\n",
       "      <td>Unknown</td>\n",
       "      <td>NaN</td>\n",
       "      <td>08-18</td>\n",
       "      <td>2</td>\n",
       "    </tr>\n",
       "    <tr>\n",
       "      <th>6138</th>\n",
       "      <td>Unknown</td>\n",
       "      <td>NaN</td>\n",
       "      <td>08-19</td>\n",
       "      <td>3</td>\n",
       "    </tr>\n",
       "    <tr>\n",
       "      <th>6182</th>\n",
       "      <td>Unknown</td>\n",
       "      <td>NaN</td>\n",
       "      <td>08-20</td>\n",
       "      <td>4</td>\n",
       "    </tr>\n",
       "    <tr>\n",
       "      <th>6227</th>\n",
       "      <td>Unknown</td>\n",
       "      <td>NaN</td>\n",
       "      <td>08-21</td>\n",
       "      <td>5</td>\n",
       "    </tr>\n",
       "    <tr>\n",
       "      <th>6272</th>\n",
       "      <td>Unknown</td>\n",
       "      <td>NaN</td>\n",
       "      <td>08-22</td>\n",
       "      <td>6</td>\n",
       "    </tr>\n",
       "    <tr>\n",
       "      <th>6317</th>\n",
       "      <td>Unknown</td>\n",
       "      <td>NaN</td>\n",
       "      <td>08-23</td>\n",
       "      <td>7</td>\n",
       "    </tr>\n",
       "    <tr>\n",
       "      <th>6362</th>\n",
       "      <td>Unknown</td>\n",
       "      <td>NaN</td>\n",
       "      <td>08-24</td>\n",
       "      <td>1</td>\n",
       "    </tr>\n",
       "    <tr>\n",
       "      <th>6407</th>\n",
       "      <td>Unknown</td>\n",
       "      <td>NaN</td>\n",
       "      <td>08-25</td>\n",
       "      <td>2</td>\n",
       "    </tr>\n",
       "    <tr>\n",
       "      <th>6452</th>\n",
       "      <td>Unknown</td>\n",
       "      <td>NaN</td>\n",
       "      <td>08-26</td>\n",
       "      <td>3</td>\n",
       "    </tr>\n",
       "    <tr>\n",
       "      <th>6497</th>\n",
       "      <td>Unknown</td>\n",
       "      <td>NaN</td>\n",
       "      <td>08-27</td>\n",
       "      <td>4</td>\n",
       "    </tr>\n",
       "    <tr>\n",
       "      <th>6542</th>\n",
       "      <td>Unknown</td>\n",
       "      <td>NaN</td>\n",
       "      <td>08-28</td>\n",
       "      <td>5</td>\n",
       "    </tr>\n",
       "    <tr>\n",
       "      <th>6587</th>\n",
       "      <td>Unknown</td>\n",
       "      <td>NaN</td>\n",
       "      <td>08-29</td>\n",
       "      <td>6</td>\n",
       "    </tr>\n",
       "    <tr>\n",
       "      <th>6632</th>\n",
       "      <td>Unknown</td>\n",
       "      <td>NaN</td>\n",
       "      <td>08-30</td>\n",
       "      <td>7</td>\n",
       "    </tr>\n",
       "    <tr>\n",
       "      <th>6677</th>\n",
       "      <td>Unknown</td>\n",
       "      <td>NaN</td>\n",
       "      <td>08-31</td>\n",
       "      <td>1</td>\n",
       "    </tr>\n",
       "    <tr>\n",
       "      <th>6722</th>\n",
       "      <td>Unknown</td>\n",
       "      <td>NaN</td>\n",
       "      <td>09-01</td>\n",
       "      <td>2</td>\n",
       "    </tr>\n",
       "    <tr>\n",
       "      <th>6767</th>\n",
       "      <td>Unknown</td>\n",
       "      <td>NaN</td>\n",
       "      <td>09-02</td>\n",
       "      <td>3</td>\n",
       "    </tr>\n",
       "    <tr>\n",
       "      <th>6812</th>\n",
       "      <td>Unknown</td>\n",
       "      <td>NaN</td>\n",
       "      <td>09-03</td>\n",
       "      <td>4</td>\n",
       "    </tr>\n",
       "    <tr>\n",
       "      <th>6857</th>\n",
       "      <td>Unknown</td>\n",
       "      <td>NaN</td>\n",
       "      <td>09-04</td>\n",
       "      <td>5</td>\n",
       "    </tr>\n",
       "    <tr>\n",
       "      <th>6902</th>\n",
       "      <td>Unknown</td>\n",
       "      <td>NaN</td>\n",
       "      <td>09-05</td>\n",
       "      <td>6</td>\n",
       "    </tr>\n",
       "  </tbody>\n",
       "</table>\n",
       "</div>"
      ],
      "text/plain": [
       "         City  confirmedcases   date dayOfWeek\n",
       "3604  Unknown             NaN  06-22         1\n",
       "3730  Unknown             NaN  06-25         4\n",
       "5478  Unknown             NaN  08-04         2\n",
       "5522  Unknown             NaN  08-05         3\n",
       "5566  Unknown             NaN  08-06         4\n",
       "5610  Unknown             NaN  08-07         5\n",
       "5654  Unknown             NaN  08-08         6\n",
       "5698  Unknown             NaN  08-09         7\n",
       "5742  Unknown             NaN  08-10         1\n",
       "5786  Unknown             NaN  08-11         2\n",
       "5830  Unknown             NaN  08-12         3\n",
       "5874  Unknown             NaN  08-13         4\n",
       "5918  Unknown             NaN  08-14         5\n",
       "5962  Unknown             NaN  08-15         6\n",
       "6006  Unknown             NaN  08-16         7\n",
       "6050  Unknown             NaN  08-17         1\n",
       "6094  Unknown             NaN  08-18         2\n",
       "6138  Unknown             NaN  08-19         3\n",
       "6182  Unknown             NaN  08-20         4\n",
       "6227  Unknown             NaN  08-21         5\n",
       "6272  Unknown             NaN  08-22         6\n",
       "6317  Unknown             NaN  08-23         7\n",
       "6362  Unknown             NaN  08-24         1\n",
       "6407  Unknown             NaN  08-25         2\n",
       "6452  Unknown             NaN  08-26         3\n",
       "6497  Unknown             NaN  08-27         4\n",
       "6542  Unknown             NaN  08-28         5\n",
       "6587  Unknown             NaN  08-29         6\n",
       "6632  Unknown             NaN  08-30         7\n",
       "6677  Unknown             NaN  08-31         1\n",
       "6722  Unknown             NaN  09-01         2\n",
       "6767  Unknown             NaN  09-02         3\n",
       "6812  Unknown             NaN  09-03         4\n",
       "6857  Unknown             NaN  09-04         5\n",
       "6902  Unknown             NaN  09-05         6"
      ]
     },
     "execution_count": 12,
     "metadata": {},
     "output_type": "execute_result"
    }
   ],
   "source": [
    "## inspection of null value \n",
    "df_covid[df_covid['confirmedcases'].isnull()]\n"
   ]
  },
  {
   "cell_type": "code",
   "execution_count": 13,
   "metadata": {},
   "outputs": [],
   "source": [
    "##City is Unknown, most likely an input error\n",
    "df_covid = df_covid.dropna()"
   ]
  },
  {
   "cell_type": "code",
   "execution_count": 14,
   "metadata": {},
   "outputs": [
    {
     "data": {
      "text/plain": [
       "135"
      ]
     },
     "execution_count": 14,
     "metadata": {},
     "output_type": "execute_result"
    }
   ],
   "source": [
    "## inspect City == Unknown \n",
    "len(df_covid[df_covid['City'] == 'Unknown'])"
   ]
  },
  {
   "cell_type": "code",
   "execution_count": 15,
   "metadata": {},
   "outputs": [],
   "source": [
    "## getting covid info from other major cities\n",
    "#ca_covid['county'].value_counts()\n",
    "#ca_covid.head()"
   ]
  },
  {
   "cell_type": "code",
   "execution_count": 16,
   "metadata": {},
   "outputs": [],
   "source": [
    "cities_list = ['San Diego','San Francisco', 'Riverside', 'Imperial', 'Los Angeles', 'Sacramento', 'Orange', 'Santa Clara']"
   ]
  },
  {
   "cell_type": "code",
   "execution_count": 17,
   "metadata": {},
   "outputs": [],
   "source": [
    "ca_covid = ca_covid.loc[ca_covid['county'].isin(cities_list)]"
   ]
  },
  {
   "cell_type": "code",
   "execution_count": 18,
   "metadata": {},
   "outputs": [],
   "source": [
    "## clean date columns\n",
    "ca_covid['date'] = ca_covid['date'].str.replace('2020-','').str.replace('T00:00:00', '')"
   ]
  },
  {
   "cell_type": "markdown",
   "metadata": {},
   "source": [
    "## Merging "
   ]
  },
  {
   "cell_type": "code",
   "execution_count": 19,
   "metadata": {},
   "outputs": [],
   "source": [
    "#df_covid_merged = pd.merge(how = 'right', left = df_covid, right = df_CA, on ='City', )"
   ]
  },
  {
   "cell_type": "markdown",
   "metadata": {},
   "source": [
    "## Analysis"
   ]
  },
  {
   "cell_type": "code",
   "execution_count": 20,
   "metadata": {},
   "outputs": [],
   "source": [
    "##helper function to determine if desired city is in dataset \n",
    "def find_city(city): \n",
    "    city = city.title()\n",
    "    print(city in df_covid['City'].unique())\n",
    "    "
   ]
  },
  {
   "cell_type": "code",
   "execution_count": 21,
   "metadata": {},
   "outputs": [
    {
     "name": "stdout",
     "output_type": "stream",
     "text": [
      "True\n"
     ]
    }
   ],
   "source": [
    "find_city('SAn diego')"
   ]
  },
  {
   "cell_type": "code",
   "execution_count": 22,
   "metadata": {},
   "outputs": [
    {
     "data": {
      "text/html": [
       "<div>\n",
       "<style scoped>\n",
       "    .dataframe tbody tr th:only-of-type {\n",
       "        vertical-align: middle;\n",
       "    }\n",
       "\n",
       "    .dataframe tbody tr th {\n",
       "        vertical-align: top;\n",
       "    }\n",
       "\n",
       "    .dataframe thead th {\n",
       "        text-align: right;\n",
       "    }\n",
       "</style>\n",
       "<table border=\"1\" class=\"dataframe\">\n",
       "  <thead>\n",
       "    <tr style=\"text-align: right;\">\n",
       "      <th></th>\n",
       "      <th>City</th>\n",
       "      <th>confirmedcases</th>\n",
       "      <th>date</th>\n",
       "      <th>dayOfWeek</th>\n",
       "    </tr>\n",
       "  </thead>\n",
       "  <tbody>\n",
       "    <tr>\n",
       "      <th>17</th>\n",
       "      <td>San Diego</td>\n",
       "      <td>207.0</td>\n",
       "      <td>03-25</td>\n",
       "      <td>3</td>\n",
       "    </tr>\n",
       "    <tr>\n",
       "      <th>41</th>\n",
       "      <td>San Diego</td>\n",
       "      <td>169.0</td>\n",
       "      <td>03-24</td>\n",
       "      <td>2</td>\n",
       "    </tr>\n",
       "    <tr>\n",
       "      <th>65</th>\n",
       "      <td>San Diego</td>\n",
       "      <td>251.0</td>\n",
       "      <td>03-26</td>\n",
       "      <td>4</td>\n",
       "    </tr>\n",
       "    <tr>\n",
       "      <th>89</th>\n",
       "      <td>San Diego</td>\n",
       "      <td>141.0</td>\n",
       "      <td>03-23</td>\n",
       "      <td>1</td>\n",
       "    </tr>\n",
       "    <tr>\n",
       "      <th>115</th>\n",
       "      <td>San Diego</td>\n",
       "      <td>134.0</td>\n",
       "      <td>03-22</td>\n",
       "      <td>7</td>\n",
       "    </tr>\n",
       "  </tbody>\n",
       "</table>\n",
       "</div>"
      ],
      "text/plain": [
       "          City  confirmedcases   date dayOfWeek\n",
       "17   San Diego           207.0  03-25         3\n",
       "41   San Diego           169.0  03-24         2\n",
       "65   San Diego           251.0  03-26         4\n",
       "89   San Diego           141.0  03-23         1\n",
       "115  San Diego           134.0  03-22         7"
      ]
     },
     "execution_count": 22,
     "metadata": {},
     "output_type": "execute_result"
    }
   ],
   "source": [
    "##group by date and graph in san diego\n",
    "df_sd = df_covid.loc[df_covid['City'] == 'San Diego', :]\n",
    "group_date = df_sd.groupby('date')\n",
    "sd_daily_count = group_date[['confirmedcases', 'date']].sum()\n",
    "df_sd.head()"
   ]
  },
  {
   "cell_type": "code",
   "execution_count": 23,
   "metadata": {},
   "outputs": [],
   "source": [
    "## get daily count in SD\n",
    "df_sd = df_sd.sort_values('date')\n",
    "diff = df_sd['confirmedcases'] - df_sd['confirmedcases'].shift(1)\n",
    "df_sd['DailyCases'] = diff\n"
   ]
  },
  {
   "cell_type": "code",
   "execution_count": 24,
   "metadata": {},
   "outputs": [
    {
     "data": {
      "text/html": [
       "<div>\n",
       "<style scoped>\n",
       "    .dataframe tbody tr th:only-of-type {\n",
       "        vertical-align: middle;\n",
       "    }\n",
       "\n",
       "    .dataframe tbody tr th {\n",
       "        vertical-align: top;\n",
       "    }\n",
       "\n",
       "    .dataframe thead th {\n",
       "        text-align: right;\n",
       "    }\n",
       "</style>\n",
       "<table border=\"1\" class=\"dataframe\">\n",
       "  <thead>\n",
       "    <tr style=\"text-align: right;\">\n",
       "      <th></th>\n",
       "      <th>City</th>\n",
       "      <th>confirmedcases</th>\n",
       "      <th>dayOfWeek</th>\n",
       "      <th>DailyCases</th>\n",
       "    </tr>\n",
       "    <tr>\n",
       "      <th>date</th>\n",
       "      <th></th>\n",
       "      <th></th>\n",
       "      <th></th>\n",
       "      <th></th>\n",
       "    </tr>\n",
       "  </thead>\n",
       "  <tbody>\n",
       "    <tr>\n",
       "      <th>03-20</th>\n",
       "      <td>San Diego</td>\n",
       "      <td>87.0</td>\n",
       "      <td>5</td>\n",
       "      <td>NaN</td>\n",
       "    </tr>\n",
       "    <tr>\n",
       "      <th>03-21</th>\n",
       "      <td>San Diego</td>\n",
       "      <td>118.0</td>\n",
       "      <td>6</td>\n",
       "      <td>31.0</td>\n",
       "    </tr>\n",
       "    <tr>\n",
       "      <th>03-22</th>\n",
       "      <td>San Diego</td>\n",
       "      <td>134.0</td>\n",
       "      <td>7</td>\n",
       "      <td>16.0</td>\n",
       "    </tr>\n",
       "    <tr>\n",
       "      <th>03-23</th>\n",
       "      <td>San Diego</td>\n",
       "      <td>141.0</td>\n",
       "      <td>1</td>\n",
       "      <td>7.0</td>\n",
       "    </tr>\n",
       "    <tr>\n",
       "      <th>03-24</th>\n",
       "      <td>San Diego</td>\n",
       "      <td>169.0</td>\n",
       "      <td>2</td>\n",
       "      <td>28.0</td>\n",
       "    </tr>\n",
       "    <tr>\n",
       "      <th>...</th>\n",
       "      <td>...</td>\n",
       "      <td>...</td>\n",
       "      <td>...</td>\n",
       "      <td>...</td>\n",
       "    </tr>\n",
       "    <tr>\n",
       "      <th>09-01</th>\n",
       "      <td>San Diego</td>\n",
       "      <td>16809.0</td>\n",
       "      <td>2</td>\n",
       "      <td>126.0</td>\n",
       "    </tr>\n",
       "    <tr>\n",
       "      <th>09-02</th>\n",
       "      <td>San Diego</td>\n",
       "      <td>16970.0</td>\n",
       "      <td>3</td>\n",
       "      <td>161.0</td>\n",
       "    </tr>\n",
       "    <tr>\n",
       "      <th>09-03</th>\n",
       "      <td>San Diego</td>\n",
       "      <td>17207.0</td>\n",
       "      <td>4</td>\n",
       "      <td>237.0</td>\n",
       "    </tr>\n",
       "    <tr>\n",
       "      <th>09-04</th>\n",
       "      <td>San Diego</td>\n",
       "      <td>17427.0</td>\n",
       "      <td>5</td>\n",
       "      <td>220.0</td>\n",
       "    </tr>\n",
       "    <tr>\n",
       "      <th>09-05</th>\n",
       "      <td>San Diego</td>\n",
       "      <td>17586.0</td>\n",
       "      <td>6</td>\n",
       "      <td>159.0</td>\n",
       "    </tr>\n",
       "  </tbody>\n",
       "</table>\n",
       "<p>170 rows × 4 columns</p>\n",
       "</div>"
      ],
      "text/plain": [
       "            City  confirmedcases dayOfWeek  DailyCases\n",
       "date                                                  \n",
       "03-20  San Diego            87.0         5         NaN\n",
       "03-21  San Diego           118.0         6        31.0\n",
       "03-22  San Diego           134.0         7        16.0\n",
       "03-23  San Diego           141.0         1         7.0\n",
       "03-24  San Diego           169.0         2        28.0\n",
       "...          ...             ...       ...         ...\n",
       "09-01  San Diego         16809.0         2       126.0\n",
       "09-02  San Diego         16970.0         3       161.0\n",
       "09-03  San Diego         17207.0         4       237.0\n",
       "09-04  San Diego         17427.0         5       220.0\n",
       "09-05  San Diego         17586.0         6       159.0\n",
       "\n",
       "[170 rows x 4 columns]"
      ]
     },
     "execution_count": 24,
     "metadata": {},
     "output_type": "execute_result"
    }
   ],
   "source": [
    "## make new columns that's the difference between confirmed cases to get \n",
    "## daily count \n",
    "\n",
    "#df_sd.head()\n",
    "df_sd = df_sd.sort_values('date')\n",
    "df_sd.set_index('date')\n"
   ]
  },
  {
   "cell_type": "code",
   "execution_count": 25,
   "metadata": {},
   "outputs": [],
   "source": [
    "sd_pv = df_sd.pivot_table(index = 'date', values = 'DailyCases')\n",
    "#sd_pv.tail()\n"
   ]
  },
  {
   "cell_type": "code",
   "execution_count": 26,
   "metadata": {},
   "outputs": [
    {
     "data": {
      "text/plain": [
       "<matplotlib.axes._subplots.AxesSubplot at 0x7fed4cb559d0>"
      ]
     },
     "execution_count": 26,
     "metadata": {},
     "output_type": "execute_result"
    },
    {
     "data": {
      "image/png": "[encoded data removed]",
      "text/plain": [
       "<Figure size 432x288 with 1 Axes>"
      ]
     },
     "metadata": {
      "needs_background": "light"
     },
     "output_type": "display_data"
    }
   ],
   "source": [
    "## graph last 14 days in sd \n",
    "sd_pv[-60:].plot(kind = 'line', title='COVID in SD from {} to {}'.format(sd_pv.index[-60], sd_pv.index[-1]))\n",
    "\n",
    "\n"
   ]
  },
  {
   "cell_type": "code",
   "execution_count": 27,
   "metadata": {},
   "outputs": [],
   "source": [
    "## graphing last week compared to two weeks ago"
   ]
  },
  {
   "cell_type": "code",
   "execution_count": 28,
   "metadata": {},
   "outputs": [],
   "source": [
    "## making dataframe for "
   ]
  },
  {
   "cell_type": "code",
   "execution_count": 29,
   "metadata": {},
   "outputs": [
    {
     "data": {
      "text/plain": [
       "<matplotlib.legend.Legend at 0x7fed4cd1dd10>"
      ]
     },
     "execution_count": 29,
     "metadata": {},
     "output_type": "execute_result"
    },
    {
     "data": {
      "image/png": "[encoded data removed]",
      "text/plain": [
       "<Figure size 432x288 with 1 Axes>"
      ]
     },
     "metadata": {
      "needs_background": "light"
     },
     "output_type": "display_data"
    }
   ],
   "source": [
    "## could fix this so the two graphs overlap, and use the day \n",
    "## of the week as x axis\n",
    "df_sd_twoweeks_before = df_sd[['dayOfWeek', 'DailyCases']].iloc[-14:-7]\n",
    "df_sd_oneweek_before = df_sd[['dayOfWeek', 'DailyCases']].iloc[-7:]\n",
    "\n",
    "plt.plot(df_sd_twoweeks_before['dayOfWeek'], df_sd_twoweeks_before['DailyCases'], label = '{} - {}'.format(df_sd['date'].iloc[-14], df_sd['date'].iloc[-8]), c = 'y')\n",
    "plt.plot(df_sd_oneweek_before['dayOfWeek'], df_sd_oneweek_before['DailyCases'], label = '{} - {}'.format(df_sd['date'].iloc[-7], df_sd['date'].iloc[-1]), c = 'r')\n",
    "plt.title('San Diego Covid in the Past 2 Weeks')\n",
    "plt.ylabel('Daily Confirmed Cases')\n",
    "plt.xlabel('Day of the week')\n",
    "plt.legend()\n",
    "\n",
    "\n",
    "\n"
   ]
  },
  {
   "cell_type": "code",
   "execution_count": 30,
   "metadata": {},
   "outputs": [],
   "source": [
    "## find out mean of week and see if there is a mismatch amongst days \n",
    "##hypothesis: tuesdays move the slowest? \n"
   ]
  },
  {
   "cell_type": "code",
   "execution_count": 31,
   "metadata": {},
   "outputs": [],
   "source": [
    "weekday_sd_pv = df_sd.pivot_table(index = 'dayOfWeek', values = 'DailyCases')\n",
    "\n"
   ]
  },
  {
   "cell_type": "code",
   "execution_count": 32,
   "metadata": {},
   "outputs": [
    {
     "data": {
      "text/plain": [
       "Text(0.5, 0, 'Day of Week')"
      ]
     },
     "execution_count": 32,
     "metadata": {},
     "output_type": "execute_result"
    },
    {
     "data": {
      "image/png": "[encoded data removed]",
      "text/plain": [
       "<Figure size 432x288 with 1 Axes>"
      ]
     },
     "metadata": {
      "needs_background": "light"
     },
     "output_type": "display_data"
    }
   ],
   "source": [
    "ax = weekday_sd_pv.plot(kind='bar', rot = 0, title = 'New Daily Cases on average by the day of the week in SD')\n",
    "ax.set_xlabel('Day of Week')\n"
   ]
  },
  {
   "cell_type": "markdown",
   "metadata": {},
   "source": [
    "## Comparing SD to nearby Cities "
   ]
  },
  {
   "cell_type": "code",
   "execution_count": 33,
   "metadata": {},
   "outputs": [],
   "source": [
    "## maybe more accurate to compare by population/million"
   ]
  },
  {
   "cell_type": "code",
   "execution_count": null,
   "metadata": {},
   "outputs": [],
   "source": []
  },
  {
   "cell_type": "code",
   "execution_count": 34,
   "metadata": {},
   "outputs": [],
   "source": [
    "#df_covid['City'].unique()"
   ]
  },
  {
   "cell_type": "markdown",
   "metadata": {},
   "source": []
  },
  {
   "cell_type": "code",
   "execution_count": 35,
   "metadata": {},
   "outputs": [],
   "source": [
    "df_population = df_population[['NAME', 'POPESTIMATE2019']]\n",
    "df_population.columns = ['City', 'Population']\n"
   ]
  },
  {
   "cell_type": "code",
   "execution_count": 36,
   "metadata": {},
   "outputs": [],
   "source": [
    "##clean City column \n",
    "df_population['City'] = df_population['City'].str.replace('city', '')\n",
    "df_population['City'] = df_population['City'].str.replace('town', '')\n",
    "df_population['City'] = df_population['City'].str.strip()\n",
    "df_population.drop_duplicates(inplace = True)\n",
    "\n",
    "\n",
    "#df_population['City'].value_counts()"
   ]
  },
  {
   "cell_type": "code",
   "execution_count": 37,
   "metadata": {
    "scrolled": true
   },
   "outputs": [],
   "source": [
    "##getting df population with only cities in df_covid\n",
    "cities = df_covid['City'].unique()\n",
    "\n",
    "df_population = df_population[df_population['City'].isin(list(cities))]\n",
    "df_population = df_population[['City', 'Population']]\n",
    "#df_population.head()"
   ]
  },
  {
   "cell_type": "code",
   "execution_count": 38,
   "metadata": {},
   "outputs": [],
   "source": [
    "## merging these datasets \n",
    "df_covid_pop = df_population.merge(df_covid, left_on='City', right_on='City', how = 'inner')\n",
    "df_covid_pop = df_covid_pop.sort_values(by=['City', 'date'])\n",
    "cities = list(df_covid_pop['City'].unique())\n",
    "#cities\n",
    "\n",
    "\n"
   ]
  },
  {
   "cell_type": "code",
   "execution_count": 39,
   "metadata": {},
   "outputs": [],
   "source": [
    "##forloop to get the dailycases per city\n",
    "daily = []\n",
    "for c in list(cities):\n",
    "    #print(c)\n",
    "    df_temp = df_covid_pop.loc[df_covid_pop['City'] == c, :]\n",
    "    diff = df_temp['confirmedcases'] - df_temp['confirmedcases'].shift(1)\n",
    "    #print(len(diff))\n",
    "    daily.append(list(diff))\n",
    "\n",
    "daily = list(chain.from_iterable(daily))\n",
    "df_covid_pop['DailyCases'] = daily\n",
    "\n",
    "#df_covid_pop.tail()  "
   ]
  },
  {
   "cell_type": "code",
   "execution_count": 40,
   "metadata": {
    "scrolled": true
   },
   "outputs": [],
   "source": [
    "## creating confirmed cases per million column \n",
    "df_covid_pop['DailyCases/Million'] = (df_covid_pop['DailyCases']/df_covid_pop['Population']*1000000)\n",
    "#df_covid_pop.head()\n",
    "\n"
   ]
  },
  {
   "cell_type": "code",
   "execution_count": 41,
   "metadata": {
    "scrolled": true
   },
   "outputs": [
    {
     "data": {
      "image/png": "[encoded data removed]",
      "text/plain": [
       "<Figure size 432x288 with 1 Axes>"
      ]
     },
     "metadata": {
      "needs_background": "light"
     },
     "output_type": "display_data"
    }
   ],
   "source": [
    "## Visualizing Cities in SD area in the past week by DailyCases/Million\n",
    "## target adjacent cities \n",
    "ad_cities = ['San Diego', 'Del Mar', 'Encinitas', 'La Mesa']\n",
    "\n",
    "for c in list(ad_cities):\n",
    "    df_temp = df_covid_pop.loc[df_covid_pop['City'] == c, :]\n",
    "    pv_temp = df_temp.iloc[-7:].pivot_table(index = 'dayOfWeek', values = 'DailyCases/Million')\n",
    "    plt.plot(pv_temp, label = c)\n",
    "    plt.ylabel(\"Daily Cases Per Million People\" )\n",
    "    plt.xlabel('Daily Cases by Weekday')\n",
    "    plt.title('Daily Cases Per Million People in SD and Adjacent Cities')\n",
    "    plt.legend()"
   ]
  },
  {
   "cell_type": "markdown",
   "metadata": {},
   "source": [
    "Cannot draw reasonable conclusion to the graph above, so I'm proceeding with comparing major cities in Socal"
   ]
  },
  {
   "cell_type": "code",
   "execution_count": 42,
   "metadata": {},
   "outputs": [],
   "source": [
    "## comparing SD to other major cities "
   ]
  },
  {
   "cell_type": "code",
   "execution_count": 43,
   "metadata": {
    "scrolled": true
   },
   "outputs": [],
   "source": [
    "ca_population = ca_population[['NAME', 'POPESTIMATE2019']]\n",
    "ca_population.columns = ['City', 'Population']\n",
    "\n",
    "##clean City column \n",
    "ca_population['City'] = ca_population['City'].str.replace('city', '')\n",
    "ca_population['City'] = ca_population['City'].str.replace('town', '')\n",
    "ca_population['City'] = ca_population['City'].str.strip()\n",
    "ca_population.drop_duplicates(inplace = True)\n",
    "\n",
    "\n",
    "##getting df population with only cities in df_covid\n",
    "ca_cities = cities_list\n",
    "#print(ca_cities)\n",
    "\n",
    "ca_population = ca_population[ca_population['City'].isin(list(ca_cities))]\n",
    "ca_population = ca_population[['City', 'Population']]\n",
    "\n",
    "## merging these datasets \n",
    "ca_covid = ca_population.merge(ca_covid, left_on='City', right_on='county', how = 'inner')\n",
    "ca_covid = ca_covid.sort_values(by=['City', 'date'])\n",
    "#cities = list(df_covid_pop['City'].unique())\n",
    "#cities\n",
    "\n"
   ]
  },
  {
   "cell_type": "code",
   "execution_count": 44,
   "metadata": {},
   "outputs": [],
   "source": [
    "ca_covid['DailyCases/Million'] = (ca_covid['newcountconfirmed']/df_covid_pop['Population']*1000000)\n",
    "\n"
   ]
  },
  {
   "cell_type": "code",
   "execution_count": 45,
   "metadata": {
    "scrolled": true
   },
   "outputs": [],
   "source": [
    "#ca_covid['City'].value_counts()"
   ]
  },
  {
   "cell_type": "code",
   "execution_count": 46,
   "metadata": {
    "scrolled": true
   },
   "outputs": [
    {
     "data": {
      "text/plain": [
       "['San Diego',\n",
       " 'San Francisco',\n",
       " 'Riverside',\n",
       " 'Imperial',\n",
       " 'Los Angeles',\n",
       " 'Sacramento',\n",
       " 'Orange',\n",
       " 'Santa Clara']"
      ]
     },
     "execution_count": 46,
     "metadata": {},
     "output_type": "execute_result"
    }
   ],
   "source": [
    "cities_list"
   ]
  },
  {
   "cell_type": "code",
   "execution_count": 47,
   "metadata": {},
   "outputs": [],
   "source": [
    "def cal_covid(cities_list, days_before):\n",
    "    aval = list(ca_covid['City'].unique())\n",
    "    for c in list(cities_list):\n",
    "        if c not in aval:\n",
    "            print(c +\" is not in the dataset\")\n",
    "            continue\n",
    "        df_temp = ca_covid.loc[ca_covid['City'] == c, :]\n",
    "        #print(df_temp)\n",
    "        pv_temp = df_temp.iloc[-days_before:].pivot_table(index = 'date', values = 'DailyCases/Million')\n",
    "    \n",
    "        plt.plot(pv_temp, label = c)\n",
    "        plt.ylabel(\"Daily Cases Per Million People\" )\n",
    "        plt.xlabel('Daily Cases by Weekday')\n",
    "        plt.title('Daily Cases Per Million People in SD and Adjacent Cities')\n",
    "        plt.legend()\n",
    "    "
   ]
  },
  {
   "cell_type": "code",
   "execution_count": 48,
   "metadata": {
    "scrolled": true
   },
   "outputs": [
    {
     "data": {
      "image/png": "[encoded data removed]",
      "text/plain": [
       "<Figure size 432x288 with 1 Axes>"
      ]
     },
     "metadata": {
      "needs_background": "light"
     },
     "output_type": "display_data"
    }
   ],
   "source": [
    "cal_covid(cities_list, 7)"
   ]
  },
  {
   "cell_type": "code",
   "execution_count": 49,
   "metadata": {},
   "outputs": [],
   "source": [
    "cities_list_without_LA = ['San Diego',\n",
    " 'San Francisco',\n",
    " 'Imperial',\n",
    " 'Sacramento',\n",
    " 'Santa Clara']"
   ]
  },
  {
   "cell_type": "code",
   "execution_count": 62,
   "metadata": {},
   "outputs": [
    {
     "data": {
      "image/png": "[encoded data removed]",
      "text/plain": [
       "<Figure size 432x288 with 1 Axes>"
      ]
     },
     "metadata": {
      "needs_background": "light"
     },
     "output_type": "display_data"
    }
   ],
   "source": [
    "cal_covid(cities_list_without_LA, 5)"
   ]
  },
  {
   "cell_type": "markdown",
   "metadata": {},
   "source": [
    "Compared to other major counties, especially LA and Orange County, San Diego seemingly has been keeping its new Positive Cases relatively low. However, excluding those two outliers in LA and Orange County, San Diego saw its biggest increase in mid June, two weeks after the stay at home order was alleviated, and dropped down gradually to an average level in mid July, one week after in door businesses were ordered to close down. "
   ]
  },
  {
   "cell_type": "markdown",
   "metadata": {},
   "source": [
    "## Hypothesis Testing "
   ]
  },
  {
   "cell_type": "markdown",
   "metadata": {},
   "source": [
    "San Diego entered phase 2 of reopening at 6/12. This includes the reopenning of public places like gyms, bars, museums and hotels. There is much speculation that this action would direct cause an increase of cases. While visualization supports the claim, null hypothesis testing would be needed to take place in order to obtain statistical evidence. Here, I compare the two groups, between the lock down and the reopenning(3/19 - 6/12), and between the reopening to today (6/12-6/28)"
   ]
  },
  {
   "cell_type": "markdown",
   "metadata": {},
   "source": [
    "Null Hypothesis: the increase in COVID positive rate after is a result of random fluctuation, H0 = 0\n",
    "\n",
    "Alternatvie Hypothesis: the increase in COVID positive rate this week is not a result of random fluctuation, H1 != 0"
   ]
  },
  {
   "cell_type": "markdown",
   "metadata": {},
   "source": [
    "By random fluctuation, it is interpreted with the assumption that the average postive cases by day in San Diego stays relatively constant after the lockdown. This is supported by graphing the COVID daily cases in San Diego, where cases had been oscillating firmly around 75 cases a day since 3/19, the date where California issued a stay at home order. "
   ]
  },
  {
   "cell_type": "code",
   "execution_count": 51,
   "metadata": {},
   "outputs": [],
   "source": [
    "## project: this week compared to the average in weed since stay at home \n",
    "## order being implemented"
   ]
  },
  {
   "cell_type": "code",
   "execution_count": 52,
   "metadata": {},
   "outputs": [],
   "source": [
    "## get the weekly average between the stay at home order and reopen \n",
    "## reindex \n",
    "index_list = []\n",
    "index_list = list(range(0, len(df_sd)))\n",
    "df_sd.index = index_list\n",
    "## get index of day of stay at home order\n",
    "start = df_sd[df_sd['date'] == '03-20'].index\n",
    "end = df_sd[df_sd['date'] == '06-12'].index\n",
    "\n",
    "##get the df for stay at home order\n",
    "df_sd_stay_at_home = df_sd.iloc[start[0]: end[0]]\n",
    "\n",
    "## get the df for reopening \n",
    "df_sd_reopen = df_sd.iloc[end[0]:]\n",
    "\n"
   ]
  },
  {
   "cell_type": "code",
   "execution_count": 53,
   "metadata": {},
   "outputs": [],
   "source": [
    "## get pv table for daily averages per day of week for df_stay_at_home and df_reopen\n",
    "pv_weekday_sd_stay_at_home = df_sd_stay_at_home.pivot_table(index = 'dayOfWeek', values = 'DailyCases')\n",
    "pv_weekday_sd_reopen = df_sd_reopen.pivot_table(index = 'dayOfWeek', values = 'DailyCases')\n"
   ]
  },
  {
   "cell_type": "code",
   "execution_count": 54,
   "metadata": {},
   "outputs": [
    {
     "data": {
      "text/plain": [
       "<matplotlib.legend.Legend at 0x7fed4d2fb310>"
      ]
     },
     "execution_count": 54,
     "metadata": {},
     "output_type": "execute_result"
    },
    {
     "data": {
      "image/png": "[encoded data removed]",
      "text/plain": [
       "<Figure size 432x288 with 1 Axes>"
      ]
     },
     "metadata": {
      "needs_background": "light"
     },
     "output_type": "display_data"
    }
   ],
   "source": [
    "## graphing the two \n",
    "N = 7\n",
    "ind = pv_weekday_sd_reopen.index  # the x locations for the groups\n",
    "width = 0.35       # the width of the bars\n",
    "pos = np.arange(N)+1\n",
    "fig,ax = plt.subplots()\n",
    "\n",
    "## creating rectangles for ax\n",
    "rects1 = ax.bar(pos+width, pv_weekday_sd_reopen['DailyCases'], width, color = 'r')\n",
    "rects2 = ax.bar(pos, pv_weekday_sd_stay_at_home['DailyCases'], width, color = 'y')\n",
    "\n",
    "ax.set_ylabel('Daily Cases')\n",
    "ax.set_title('San Diego COVID Daily Cases before and after reopening')\n",
    "ax.set_xticks(pos + width / 2)\n",
    "ax.set_xticklabels(('Mon', 'Tues', 'Weds', 'Thurs', 'Fri', 'Sat', 'Sun'))\n",
    "\n",
    "ax.legend((rects1[0], rects2[0]), ('After Reopening', 'Before Reopening'))"
   ]
  },
  {
   "cell_type": "code",
   "execution_count": 55,
   "metadata": {},
   "outputs": [
    {
     "data": {
      "text/html": [
       "<div>\n",
       "<style scoped>\n",
       "    .dataframe tbody tr th:only-of-type {\n",
       "        vertical-align: middle;\n",
       "    }\n",
       "\n",
       "    .dataframe tbody tr th {\n",
       "        vertical-align: top;\n",
       "    }\n",
       "\n",
       "    .dataframe thead th {\n",
       "        text-align: right;\n",
       "    }\n",
       "</style>\n",
       "<table border=\"1\" class=\"dataframe\">\n",
       "  <thead>\n",
       "    <tr style=\"text-align: right;\">\n",
       "      <th></th>\n",
       "      <th>City</th>\n",
       "      <th>confirmedcases</th>\n",
       "      <th>date</th>\n",
       "      <th>dayOfWeek</th>\n",
       "      <th>DailyCases</th>\n",
       "    </tr>\n",
       "  </thead>\n",
       "  <tbody>\n",
       "    <tr>\n",
       "      <th>0</th>\n",
       "      <td>San Diego</td>\n",
       "      <td>87.0</td>\n",
       "      <td>03-20</td>\n",
       "      <td>5</td>\n",
       "      <td>NaN</td>\n",
       "    </tr>\n",
       "    <tr>\n",
       "      <th>1</th>\n",
       "      <td>San Diego</td>\n",
       "      <td>118.0</td>\n",
       "      <td>03-21</td>\n",
       "      <td>6</td>\n",
       "      <td>31.0</td>\n",
       "    </tr>\n",
       "    <tr>\n",
       "      <th>2</th>\n",
       "      <td>San Diego</td>\n",
       "      <td>134.0</td>\n",
       "      <td>03-22</td>\n",
       "      <td>7</td>\n",
       "      <td>16.0</td>\n",
       "    </tr>\n",
       "    <tr>\n",
       "      <th>3</th>\n",
       "      <td>San Diego</td>\n",
       "      <td>141.0</td>\n",
       "      <td>03-23</td>\n",
       "      <td>1</td>\n",
       "      <td>7.0</td>\n",
       "    </tr>\n",
       "    <tr>\n",
       "      <th>4</th>\n",
       "      <td>San Diego</td>\n",
       "      <td>169.0</td>\n",
       "      <td>03-24</td>\n",
       "      <td>2</td>\n",
       "      <td>28.0</td>\n",
       "    </tr>\n",
       "  </tbody>\n",
       "</table>\n",
       "</div>"
      ],
      "text/plain": [
       "        City  confirmedcases   date dayOfWeek  DailyCases\n",
       "0  San Diego            87.0  03-20         5         NaN\n",
       "1  San Diego           118.0  03-21         6        31.0\n",
       "2  San Diego           134.0  03-22         7        16.0\n",
       "3  San Diego           141.0  03-23         1         7.0\n",
       "4  San Diego           169.0  03-24         2        28.0"
      ]
     },
     "execution_count": 55,
     "metadata": {},
     "output_type": "execute_result"
    }
   ],
   "source": [
    "## calculate average increase \n",
    "df_sd_stay_at_home.head()"
   ]
  },
  {
   "cell_type": "code",
   "execution_count": 56,
   "metadata": {},
   "outputs": [
    {
     "data": {
      "text/plain": [
       "pandas.core.indexes.base.Index"
      ]
     },
     "execution_count": 56,
     "metadata": {},
     "output_type": "execute_result"
    }
   ],
   "source": [
    "type(ind)"
   ]
  },
  {
   "cell_type": "code",
   "execution_count": 57,
   "metadata": {},
   "outputs": [
    {
     "name": "stdout",
     "output_type": "stream",
     "text": [
      "The T Score is -15.42, and the P-value is 0.00\n"
     ]
    }
   ],
   "source": [
    "## conduct 1 tail student t test \n",
    "t, p = stats.ttest_ind(df_sd_stay_at_home['DailyCases'], df_sd_reopen['DailyCases'], nan_policy='omit')\n",
    "print('The T Score is {:.2f}, and the P-value is {:.2f}'.format(t, p))"
   ]
  },
  {
   "cell_type": "code",
   "execution_count": 58,
   "metadata": {},
   "outputs": [],
   "source": [
    "## make this p value test better"
   ]
  },
  {
   "cell_type": "code",
   "execution_count": 59,
   "metadata": {},
   "outputs": [],
   "source": [
    "## trumps approval rate by state vs Daily New Cases rate "
   ]
  }
 ],
 "metadata": {
  "kernelspec": {
   "display_name": "Python 3",
   "language": "python",
   "name": "python3"
  },
  "language_info": {
   "codemirror_mode": {
    "name": "ipython",
    "version": 3
   },
   "file_extension": ".py",
   "mimetype": "text/x-python",
   "name": "python",
   "nbconvert_exporter": "python",
   "pygments_lexer": "ipython3",
   "version": "3.7.6"
  }
 },
 "nbformat": 4,
 "nbformat_minor": 4
}
