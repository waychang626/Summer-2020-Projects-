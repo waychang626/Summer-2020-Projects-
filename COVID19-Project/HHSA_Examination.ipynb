{
 "cells": [
  {
   "cell_type": "markdown",
   "metadata": {},
   "source": [
    "## Preface"
   ]
  },
  {
   "cell_type": "markdown",
   "metadata": {},
   "source": [
    "Upon comparing San Diego's COVID trend to other major cities, I found that the new daily cases of riverside drastically dropped down at 7/17/20, which is the date that the Trump administration issued a change in COVID data management from the CDC to the HHSA. There has been much speculation about the transparency of the HHSA's release of COVID data, and the outlier of riverside inspired the initiative to examine if there are other major counties in the US that has a drastic drop in COVID data around the same time. "
   ]
  },
  {
   "cell_type": "markdown",
   "metadata": {},
   "source": [
    "## Data Import"
   ]
  },
  {
   "cell_type": "code",
   "execution_count": 2,
   "metadata": {},
   "outputs": [],
   "source": [
    "import pandas as pd \n",
    "import numpy as np \n",
    "from datetime import datetime\n",
    "import matplotlib.pyplot as plt\n",
    "from scipy import stats\n",
    "from itertools import chain "
   ]
  },
  {
   "cell_type": "code",
   "execution_count": 3,
   "metadata": {},
   "outputs": [],
   "source": [
    "df_covid = pd.read_csv('Datasets/COVID-19_Statistics_by_Jurisdiction.csv')\n",
    "## https://sdgis-sandag.opendata.arcgis.com/datasets/covid-19-statistics-by-jurisdiction?geometry=-120.348%2C32.566%2C-115.965%2C33.372\n",
    "df_population = pd.read_csv('Datasets/sub-est2019_6.csv', encoding = 'latin-1')\n",
    "ca_population = pd.read_csv('Datasets/sub-est2019_6.csv', encoding = 'latin-1')\n",
    "ca_covid = pd.read_csv('Datasets/statewide_cases.csv')"
   ]
  },
  {
   "cell_type": "markdown",
   "metadata": {},
   "source": [
    "## Data Cleaning"
   ]
  },
  {
   "cell_type": "code",
   "execution_count": 4,
   "metadata": {},
   "outputs": [],
   "source": [
    "## changing covid's lastupdate to just the date \n",
    "lastUpdate = df_covid['lastupdate']\n",
    "update = []\n",
    "for t in lastUpdate:\n",
    "    ##getting rid of the time \n",
    "    date = t.split(' ')[0]\n",
    "    #print(date)\n",
    "    update.append(datetime.strptime(date, '%Y/%m/%d'))\n",
    "\n",
    "df_covid['date'] = update"
   ]
  },
  {
   "cell_type": "code",
   "execution_count": 5,
   "metadata": {},
   "outputs": [],
   "source": [
    "#df_covid['date'].iloc[0].weekday()\n",
    "## adding day of the week to df covid \n",
    "weekday = []\n",
    "for d in df_covid['date']:\n",
    "    weekday.append(str(d.isoweekday()))\n",
    "\n"
   ]
  },
  {
   "cell_type": "code",
   "execution_count": 6,
   "metadata": {},
   "outputs": [],
   "source": [
    "df_covid['dayOfWeek'] = weekday\n",
    "##convert time into str for date \n",
    "new_date =[]\n",
    "for e in df_covid.loc[:, 'date']:\n",
    "    new_date.append(e.strftime('%m-%d'))\n",
    "\n",
    "df_covid['date'] = new_date\n",
    "##leaving only the useful columns  for covid\n",
    "cols = ['name', 'confirmedcases', 'date', 'dayOfWeek']\n",
    "df_covid = df_covid[cols]\n",
    "\n",
    "##cleaning Name to title \n",
    "df_covid['name'] = df_covid['name'].str.title()\n",
    "df_covid.rename({'name' : 'City'}, inplace = True, axis = 1)\n",
    "\n",
    "##City is Unknown, most likely an input error\n",
    "df_covid = df_covid.dropna()\n",
    "\n",
    "cities_list = ['San Diego','San Francisco', 'Riverside', 'Imperial', 'Los Angeles', 'Sacramento', 'Orange', 'Santa Clara']\n",
    "\n",
    "ca_covid = ca_covid.loc[ca_covid['county'].isin(cities_list)]\n",
    "\n",
    "## clean date columns\n",
    "ca_covid['date'] = ca_covid['date'].str.replace('2020-','')"
   ]
  },
  {
   "cell_type": "code",
   "execution_count": 7,
   "metadata": {},
   "outputs": [],
   "source": [
    "df_population = df_population[['NAME', 'POPESTIMATE2019']]\n",
    "df_population.columns = ['City', 'Population']\n",
    "\n",
    "##clean City column \n",
    "df_population['City'] = df_population['City'].str.replace('city', '')\n",
    "df_population['City'] = df_population['City'].str.replace('town', '')\n",
    "df_population['City'] = df_population['City'].str.strip()\n",
    "df_population.drop_duplicates(inplace = True)\n",
    "\n",
    "\n",
    "#df_population['City'].value_counts()\n",
    "\n",
    "##getting df population with only cities in df_covid\n",
    "cities = df_covid['City'].unique()\n",
    "\n",
    "df_population = df_population[df_population['City'].isin(list(cities))]\n",
    "df_population = df_population[['City', 'Population']]\n",
    "#df_population.head()\n",
    "\n",
    "## merging these datasets \n",
    "df_covid_pop = df_population.merge(df_covid, left_on='City', right_on='City', how = 'inner')\n",
    "df_covid_pop = df_covid_pop.sort_values(by=['City', 'date'])\n",
    "cities = list(df_covid_pop['City'].unique())\n",
    "#cities\n",
    "\n",
    "##forloop to get the dailycases per city\n",
    "daily = []\n",
    "for c in list(cities):\n",
    "    #print(c)\n",
    "    df_temp = df_covid_pop.loc[df_covid_pop['City'] == c, :]\n",
    "    diff = df_temp['confirmedcases'] - df_temp['confirmedcases'].shift(1)\n",
    "    #print(len(diff))\n",
    "    daily.append(list(diff))\n",
    "\n",
    "daily = list(chain.from_iterable(daily))\n",
    "df_covid_pop['DailyCases'] = daily\n",
    "\n",
    "#df_covid_pop.tail()  \n",
    "## creating confirmed cases per million column \n",
    "df_covid_pop['DailyCases/Million'] = (df_covid_pop['DailyCases']/df_covid_pop['Population']*1000000)\n",
    "#df_covid_pop.head()\n",
    "\n",
    "ca_population = ca_population[['NAME', 'POPESTIMATE2019']]\n",
    "ca_population.columns = ['City', 'Population']\n",
    "\n",
    "##clean City column \n",
    "ca_population['City'] = ca_population['City'].str.replace('city', '')\n",
    "ca_population['City'] = ca_population['City'].str.replace('town', '')\n",
    "ca_population['City'] = ca_population['City'].str.strip()\n",
    "ca_population.drop_duplicates(inplace = True)\n",
    "\n",
    "\n",
    "##getting df population with only cities in df_covid\n",
    "ca_cities = cities_list\n",
    "#print(ca_cities)\n",
    "\n",
    "ca_population = ca_population[ca_population['City'].isin(list(ca_cities))]\n",
    "ca_population = ca_population[['City', 'Population']]\n",
    "\n",
    "## merging these datasets \n",
    "ca_covid = ca_population.merge(ca_covid, left_on='City', right_on='county', how = 'inner')\n",
    "ca_covid = ca_covid.sort_values(by=['City', 'date'])\n",
    "#cities = list(df_covid_pop['City'].unique())\n",
    "#cities\n",
    "\n"
   ]
  },
  {
   "cell_type": "code",
   "execution_count": 8,
   "metadata": {},
   "outputs": [],
   "source": [
    "ca_covid['DailyCases/Million'] = (ca_covid['newcountconfirmed']/df_covid_pop['Population']*1000000)\n"
   ]
  },
  {
   "cell_type": "code",
   "execution_count": 39,
   "metadata": {},
   "outputs": [
    {
     "data": {
      "text/html": [
       "<div>\n",
       "<style scoped>\n",
       "    .dataframe tbody tr th:only-of-type {\n",
       "        vertical-align: middle;\n",
       "    }\n",
       "\n",
       "    .dataframe tbody tr th {\n",
       "        vertical-align: top;\n",
       "    }\n",
       "\n",
       "    .dataframe thead th {\n",
       "        text-align: right;\n",
       "    }\n",
       "</style>\n",
       "<table border=\"1\" class=\"dataframe\">\n",
       "  <thead>\n",
       "    <tr style=\"text-align: right;\">\n",
       "      <th></th>\n",
       "      <th>City</th>\n",
       "      <th>Population</th>\n",
       "      <th>county</th>\n",
       "      <th>totalcountconfirmed</th>\n",
       "      <th>totalcountdeaths</th>\n",
       "      <th>newcountconfirmed</th>\n",
       "      <th>newcountdeaths</th>\n",
       "      <th>date</th>\n",
       "      <th>DailyCases/Million</th>\n",
       "    </tr>\n",
       "  </thead>\n",
       "  <tbody>\n",
       "    <tr>\n",
       "      <th>0</th>\n",
       "      <td>Imperial</td>\n",
       "      <td>18120</td>\n",
       "      <td>Imperial</td>\n",
       "      <td>2.0</td>\n",
       "      <td>0.0</td>\n",
       "      <td>2</td>\n",
       "      <td>0</td>\n",
       "      <td>03-18</td>\n",
       "      <td>17.333726</td>\n",
       "    </tr>\n",
       "    <tr>\n",
       "      <th>1</th>\n",
       "      <td>Imperial</td>\n",
       "      <td>18120</td>\n",
       "      <td>Imperial</td>\n",
       "      <td>2.0</td>\n",
       "      <td>0.0</td>\n",
       "      <td>0</td>\n",
       "      <td>0</td>\n",
       "      <td>03-19</td>\n",
       "      <td>0.000000</td>\n",
       "    </tr>\n",
       "    <tr>\n",
       "      <th>2</th>\n",
       "      <td>Imperial</td>\n",
       "      <td>18120</td>\n",
       "      <td>Imperial</td>\n",
       "      <td>2.0</td>\n",
       "      <td>0.0</td>\n",
       "      <td>0</td>\n",
       "      <td>0</td>\n",
       "      <td>03-20</td>\n",
       "      <td>0.000000</td>\n",
       "    </tr>\n",
       "    <tr>\n",
       "      <th>3</th>\n",
       "      <td>Imperial</td>\n",
       "      <td>18120</td>\n",
       "      <td>Imperial</td>\n",
       "      <td>2.0</td>\n",
       "      <td>0.0</td>\n",
       "      <td>0</td>\n",
       "      <td>0</td>\n",
       "      <td>03-21</td>\n",
       "      <td>0.000000</td>\n",
       "    </tr>\n",
       "    <tr>\n",
       "      <th>4</th>\n",
       "      <td>Imperial</td>\n",
       "      <td>18120</td>\n",
       "      <td>Imperial</td>\n",
       "      <td>2.0</td>\n",
       "      <td>0.0</td>\n",
       "      <td>0</td>\n",
       "      <td>0</td>\n",
       "      <td>03-22</td>\n",
       "      <td>0.000000</td>\n",
       "    </tr>\n",
       "  </tbody>\n",
       "</table>\n",
       "</div>"
      ],
      "text/plain": [
       "       City  Population    county  totalcountconfirmed  totalcountdeaths  \\\n",
       "0  Imperial       18120  Imperial                  2.0               0.0   \n",
       "1  Imperial       18120  Imperial                  2.0               0.0   \n",
       "2  Imperial       18120  Imperial                  2.0               0.0   \n",
       "3  Imperial       18120  Imperial                  2.0               0.0   \n",
       "4  Imperial       18120  Imperial                  2.0               0.0   \n",
       "\n",
       "   newcountconfirmed  newcountdeaths   date  DailyCases/Million  \n",
       "0                  2               0  03-18           17.333726  \n",
       "1                  0               0  03-19            0.000000  \n",
       "2                  0               0  03-20            0.000000  \n",
       "3                  0               0  03-21            0.000000  \n",
       "4                  0               0  03-22            0.000000  "
      ]
     },
     "execution_count": 39,
     "metadata": {},
     "output_type": "execute_result"
    }
   ],
   "source": [
    "ca_covid.head()"
   ]
  },
  {
   "cell_type": "markdown",
   "metadata": {},
   "source": [
    "## Data Analysis"
   ]
  },
  {
   "cell_type": "code",
   "execution_count": 154,
   "metadata": {},
   "outputs": [],
   "source": [
    "def cal_covid(cities_list, days_before):\n",
    "    aval = list(ca_covid['City'].unique())\n",
    "    for c in list(cities_list):\n",
    "        if c not in aval:\n",
    "            print(c +\" is not in the dataset\")\n",
    "            continue\n",
    "        df_temp = ca_covid.loc[ca_covid['City'] == c, :]\n",
    "        \n",
    "        pv_temp = df_temp.iloc[-days_before:].pivot_table(index = 'date', values = 'DailyCases/Million')\n",
    "       \n",
    "       # print(type(pv_temp.index))\n",
    "        #print(pv_temp.columns)\n",
    "        date = pd.DataFrame.to_numpy(pv_temp.index)\n",
    "       # print(type(date))\n",
    "        plt.plot(pv_temp, label = c)\n",
    "        plt.ylabel(\"Daily Cases Per Million People\" )\n",
    "        plt.xlabel('Daily Cases by Weekday')\n",
    "        #print(pv_temp.loc['date', :]\n",
    "        plt.xticks(np.arange(6)*days_before/5, date[::int(days_before/6)])\n",
    "        plt.title('Daily Cases Per Million People in SD and Adjacent Cities')\n",
    "        plt.legend()\n",
    "    "
   ]
  },
  {
   "cell_type": "code",
   "execution_count": 155,
   "metadata": {},
   "outputs": [
    {
     "data": {
      "image/png": "[encoded data removed]",
      "text/plain": [
       "<Figure size 432x288 with 1 Axes>"
      ]
     },
     "metadata": {
      "needs_background": "light"
     },
     "output_type": "display_data"
    }
   ],
   "source": [
    "cal_covid(cities_list, 30)"
   ]
  },
  {
   "cell_type": "code",
   "execution_count": 31,
   "metadata": {},
   "outputs": [
    {
     "data": {
      "text/plain": [
       "array([ 0, 15, 30, 45, 60])"
      ]
     },
     "execution_count": 31,
     "metadata": {},
     "output_type": "execute_result"
    }
   ],
   "source": [
    "np.arange(5)*15"
   ]
  },
  {
   "cell_type": "code",
   "execution_count": 156,
   "metadata": {},
   "outputs": [
    {
     "data": {
      "text/html": [
       "<div>\n",
       "<style scoped>\n",
       "    .dataframe tbody tr th:only-of-type {\n",
       "        vertical-align: middle;\n",
       "    }\n",
       "\n",
       "    .dataframe tbody tr th {\n",
       "        vertical-align: top;\n",
       "    }\n",
       "\n",
       "    .dataframe thead th {\n",
       "        text-align: right;\n",
       "    }\n",
       "</style>\n",
       "<table border=\"1\" class=\"dataframe\">\n",
       "  <thead>\n",
       "    <tr style=\"text-align: right;\">\n",
       "      <th></th>\n",
       "      <th>City</th>\n",
       "      <th>Population</th>\n",
       "      <th>county</th>\n",
       "      <th>totalcountconfirmed</th>\n",
       "      <th>totalcountdeaths</th>\n",
       "      <th>newcountconfirmed</th>\n",
       "      <th>newcountdeaths</th>\n",
       "      <th>date</th>\n",
       "      <th>DailyCases/Million</th>\n",
       "    </tr>\n",
       "  </thead>\n",
       "  <tbody>\n",
       "    <tr>\n",
       "      <th>1083</th>\n",
       "      <td>Santa Clara</td>\n",
       "      <td>130365</td>\n",
       "      <td>Santa Clara</td>\n",
       "      <td>9157.0</td>\n",
       "      <td>184.0</td>\n",
       "      <td>171</td>\n",
       "      <td>0</td>\n",
       "      <td>07-27</td>\n",
       "      <td>6231.778426</td>\n",
       "    </tr>\n",
       "    <tr>\n",
       "      <th>1084</th>\n",
       "      <td>Santa Clara</td>\n",
       "      <td>130365</td>\n",
       "      <td>Santa Clara</td>\n",
       "      <td>9307.0</td>\n",
       "      <td>185.0</td>\n",
       "      <td>150</td>\n",
       "      <td>1</td>\n",
       "      <td>07-28</td>\n",
       "      <td>5466.472303</td>\n",
       "    </tr>\n",
       "    <tr>\n",
       "      <th>1085</th>\n",
       "      <td>Santa Clara</td>\n",
       "      <td>130365</td>\n",
       "      <td>Santa Clara</td>\n",
       "      <td>9567.0</td>\n",
       "      <td>187.0</td>\n",
       "      <td>260</td>\n",
       "      <td>2</td>\n",
       "      <td>07-29</td>\n",
       "      <td>9475.218659</td>\n",
       "    </tr>\n",
       "    <tr>\n",
       "      <th>1086</th>\n",
       "      <td>Santa Clara</td>\n",
       "      <td>130365</td>\n",
       "      <td>Santa Clara</td>\n",
       "      <td>9708.0</td>\n",
       "      <td>190.0</td>\n",
       "      <td>141</td>\n",
       "      <td>3</td>\n",
       "      <td>07-30</td>\n",
       "      <td>5138.483965</td>\n",
       "    </tr>\n",
       "    <tr>\n",
       "      <th>1087</th>\n",
       "      <td>Santa Clara</td>\n",
       "      <td>130365</td>\n",
       "      <td>Santa Clara</td>\n",
       "      <td>9863.0</td>\n",
       "      <td>191.0</td>\n",
       "      <td>155</td>\n",
       "      <td>1</td>\n",
       "      <td>07-31</td>\n",
       "      <td>5648.688047</td>\n",
       "    </tr>\n",
       "  </tbody>\n",
       "</table>\n",
       "</div>"
      ],
      "text/plain": [
       "             City  Population       county  totalcountconfirmed  \\\n",
       "1083  Santa Clara      130365  Santa Clara               9157.0   \n",
       "1084  Santa Clara      130365  Santa Clara               9307.0   \n",
       "1085  Santa Clara      130365  Santa Clara               9567.0   \n",
       "1086  Santa Clara      130365  Santa Clara               9708.0   \n",
       "1087  Santa Clara      130365  Santa Clara               9863.0   \n",
       "\n",
       "      totalcountdeaths  newcountconfirmed  newcountdeaths   date  \\\n",
       "1083             184.0                171               0  07-27   \n",
       "1084             185.0                150               1  07-28   \n",
       "1085             187.0                260               2  07-29   \n",
       "1086             190.0                141               3  07-30   \n",
       "1087             191.0                155               1  07-31   \n",
       "\n",
       "      DailyCases/Million  \n",
       "1083         6231.778426  \n",
       "1084         5466.472303  \n",
       "1085         9475.218659  \n",
       "1086         5138.483965  \n",
       "1087         5648.688047  "
      ]
     },
     "execution_count": 156,
     "metadata": {},
     "output_type": "execute_result"
    }
   ],
   "source": [
    "ca_covid.tail()"
   ]
  },
  {
   "cell_type": "code",
   "execution_count": null,
   "metadata": {},
   "outputs": [],
   "source": []
  },
  {
   "cell_type": "code",
   "execution_count": null,
   "metadata": {},
   "outputs": [],
   "source": []
  }
 ],
 "metadata": {
  "kernelspec": {
   "display_name": "Python 3",
   "language": "python",
   "name": "python3"
  },
  "language_info": {
   "codemirror_mode": {
    "name": "ipython",
    "version": 3
   },
   "file_extension": ".py",
   "mimetype": "text/x-python",
   "name": "python",
   "nbconvert_exporter": "python",
   "pygments_lexer": "ipython3",
   "version": "3.7.6"
  }
 },
 "nbformat": 4,
 "nbformat_minor": 4
}
